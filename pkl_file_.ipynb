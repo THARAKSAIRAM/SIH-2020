{
  "nbformat": 4,
  "nbformat_minor": 0,
  "metadata": {
    "colab": {
      "name": "pkl file .ipynb",
      "provenance": [],
      "collapsed_sections": [],
      "toc_visible": true,
      "include_colab_link": true
    },
    "kernelspec": {
      "name": "python3",
      "display_name": "Python 3"
    },
    "accelerator": "GPU"
  },
  "cells": [
    {
      "cell_type": "markdown",
      "metadata": {
        "id": "view-in-github",
        "colab_type": "text"
      },
      "source": [
        "<a href=\"https://colab.research.google.com/github/TharakaSairamNarina/SIH-2020/blob/master/pkl_file_.ipynb\" target=\"_parent\"><img src=\"https://colab.research.google.com/assets/colab-badge.svg\" alt=\"Open In Colab\"/></a>"
      ]
    },
    {
      "cell_type": "markdown",
      "metadata": {
        "id": "NCzDmZdRknyS",
        "colab_type": "text"
      },
      "source": [
        "##Mounting google drive"
      ]
    },
    {
      "cell_type": "code",
      "metadata": {
        "id": "xxRQJSOukQ_8",
        "colab_type": "code",
        "outputId": "3fcb4704-6450-47f8-9ec0-135a2bf28bfe",
        "colab": {
          "base_uri": "https://localhost:8080/",
          "height": 121
        }
      },
      "source": [
        "from google.colab import drive\n",
        "drive.mount('/content/drive')"
      ],
      "execution_count": 0,
      "outputs": [
        {
          "output_type": "stream",
          "text": [
            "Go to this URL in a browser: https://accounts.google.com/o/oauth2/auth?client_id=947318989803-6bn6qk8qdgf4n4g3pfee6491hc0brc4i.apps.googleusercontent.com&redirect_uri=urn%3aietf%3awg%3aoauth%3a2.0%3aoob&response_type=code&scope=email%20https%3a%2f%2fwww.googleapis.com%2fauth%2fdocs.test%20https%3a%2f%2fwww.googleapis.com%2fauth%2fdrive%20https%3a%2f%2fwww.googleapis.com%2fauth%2fdrive.photos.readonly%20https%3a%2f%2fwww.googleapis.com%2fauth%2fpeopleapi.readonly\n",
            "\n",
            "Enter your authorization code:\n",
            "··········\n",
            "Mounted at /content/drive\n"
          ],
          "name": "stdout"
        }
      ]
    },
    {
      "cell_type": "markdown",
      "metadata": {
        "id": "_0iK2CHkksox",
        "colab_type": "text"
      },
      "source": [
        "##Unzipping folder"
      ]
    },
    {
      "cell_type": "code",
      "metadata": {
        "id": "xjnfR8tDkbXZ",
        "colab_type": "code",
        "outputId": "a763c23b-d0bc-42d7-82c8-c50333210fc4",
        "colab": {
          "base_uri": "https://localhost:8080/",
          "height": 34
        }
      },
      "source": [
        "!unzip -q \"/content/drive/My Drive/dataset_hehe/dataset\"\n",
        "%ls\n"
      ],
      "execution_count": 0,
      "outputs": [
        {
          "output_type": "stream",
          "text": [
            "\u001b[0m\u001b[01;34mdataset\u001b[0m/  \u001b[01;34mdrive\u001b[0m/  \u001b[01;34msample_data\u001b[0m/\n"
          ],
          "name": "stdout"
        }
      ]
    },
    {
      "cell_type": "markdown",
      "metadata": {
        "id": "DO9kbv56ky1Q",
        "colab_type": "text"
      },
      "source": [
        "## Installed && imported modules"
      ]
    },
    {
      "cell_type": "code",
      "metadata": {
        "id": "JUqxCf4wkhdY",
        "colab_type": "code",
        "outputId": "9da65b60-bbe0-458e-e1a4-0df2f1d1fa96",
        "colab": {
          "base_uri": "https://localhost:8080/",
          "height": 188
        }
      },
      "source": [
        "pip install python_speech_features\n"
      ],
      "execution_count": 0,
      "outputs": [
        {
          "output_type": "stream",
          "text": [
            "Collecting python_speech_features\n",
            "  Downloading https://files.pythonhosted.org/packages/ff/d1/94c59e20a2631985fbd2124c45177abaa9e0a4eee8ba8a305aa26fc02a8e/python_speech_features-0.6.tar.gz\n",
            "Building wheels for collected packages: python-speech-features\n",
            "  Building wheel for python-speech-features (setup.py) ... \u001b[?25l\u001b[?25hdone\n",
            "  Created wheel for python-speech-features: filename=python_speech_features-0.6-cp36-none-any.whl size=5889 sha256=aaf50f84a22e0cb9d5d4d459ba62bd245140cf4dfd21266b1ddd9aa1363444a5\n",
            "  Stored in directory: /root/.cache/pip/wheels/3c/42/7c/f60e9d1b40015cd69b213ad90f7c18a9264cd745b9888134be\n",
            "Successfully built python-speech-features\n",
            "Installing collected packages: python-speech-features\n",
            "Successfully installed python-speech-features-0.6\n"
          ],
          "name": "stdout"
        }
      ]
    },
    {
      "cell_type": "code",
      "metadata": {
        "id": "iqH4IwAwlAFK",
        "colab_type": "code",
        "colab": {}
      },
      "source": [
        "from python_speech_features import mfcc,delta,logfbank \n",
        "from tqdm import tnrange\n",
        "import numpy\n",
        "import scipy.io.wavfile\n",
        "import numpy as np\n",
        "import wave\n",
        "import contextlib\n",
        "from scipy.fftpack import dct\n",
        "import scipy.io.wavfile as wav\n",
        "import pickle"
      ],
      "execution_count": 0,
      "outputs": []
    },
    {
      "cell_type": "code",
      "metadata": {
        "id": "RKJAZGtsoILJ",
        "colab_type": "code",
        "colab": {}
      },
      "source": [
        ""
      ],
      "execution_count": 0,
      "outputs": []
    },
    {
      "cell_type": "markdown",
      "metadata": {
        "id": "vRhgOTFTlkGH",
        "colab_type": "text"
      },
      "source": [
        "##Loading the pickle files into arrays for training\n"
      ]
    },
    {
      "cell_type": "code",
      "metadata": {
        "id": "MXqGYthElPJ6",
        "colab_type": "code",
        "colab": {}
      },
      "source": [
        "##add pickle file path(x-train)\n",
        "with open(\"/content/dataset/Train_Dataset.pkl\", \"rb\")as f:\n",
        "  x_train = pickle.load(f)\n"
      ],
      "execution_count": 0,
      "outputs": []
    },
    {
      "cell_type": "code",
      "metadata": {
        "id": "othVEl8HnAHA",
        "colab_type": "code",
        "colab": {}
      },
      "source": [
        "##add pickle file path(x-test)\n",
        "with open(\"/content/dataset/Test_Dataset.pkl\",\"rb\")as f:\n",
        "  x_test = pickle.load(f)\n"
      ],
      "execution_count": 0,
      "outputs": []
    },
    {
      "cell_type": "code",
      "metadata": {
        "id": "nqYFUYFTnbaB",
        "colab_type": "code",
        "colab": {}
      },
      "source": [
        "##add pickle file path(y-train)\n",
        "with open(\"/content/dataset/Train_tar_Dataset.pkl\", \"rb\")as f:\n",
        "  y_train= pickle.load(f)\n"
      ],
      "execution_count": 0,
      "outputs": []
    },
    {
      "cell_type": "code",
      "metadata": {
        "id": "3iFImpYynnaX",
        "colab_type": "code",
        "colab": {}
      },
      "source": [
        "##add pickle file path(y_test)\n",
        "with open(\"/content/dataset/Test_tar_Dataset.pkl\", \"rb\")as f:\n",
        "  y_test= pickle.load(f)\n"
      ],
      "execution_count": 0,
      "outputs": []
    },
    {
      "cell_type": "markdown",
      "metadata": {
        "id": "SO-QfEVGplj3",
        "colab_type": "text"
      },
      "source": [
        "##Imports needed for model"
      ]
    },
    {
      "cell_type": "code",
      "metadata": {
        "id": "W72c4QM_n-QB",
        "colab_type": "code",
        "outputId": "d2d85d08-3edd-4f3d-b9a5-ddfe531efdfe",
        "colab": {
          "base_uri": "https://localhost:8080/",
          "height": 79
        }
      },
      "source": [
        "from keras import applications\n",
        "from keras.models import Sequential\n",
        "from keras.layers import Activation\n",
        "from keras.layers import Dense, Dropout, Activation, Flatten, Add, BatchNormalization,AveragePooling2D\n",
        "from keras.layers import Convolution2D, MaxPooling2D\n",
        "from keras.layers import GlobalAveragePooling2D,Dropout,Dense\n",
        "from keras.models import Model\n",
        "from keras.optimizers import Adam\n",
        "from keras.models import load_model\n"
      ],
      "execution_count": 0,
      "outputs": [
        {
          "output_type": "stream",
          "text": [
            "Using TensorFlow backend.\n"
          ],
          "name": "stderr"
        },
        {
          "output_type": "display_data",
          "data": {
            "text/html": [
              "<p style=\"color: red;\">\n",
              "The default version of TensorFlow in Colab will soon switch to TensorFlow 2.x.<br>\n",
              "We recommend you <a href=\"https://www.tensorflow.org/guide/migrate\" target=\"_blank\">upgrade</a> now \n",
              "or ensure your notebook will continue to use TensorFlow 1.x via the <code>%tensorflow_version 1.x</code> magic:\n",
              "<a href=\"https://colab.research.google.com/notebooks/tensorflow_version.ipynb\" target=\"_blank\">more info</a>.</p>\n"
            ],
            "text/plain": [
              "<IPython.core.display.HTML object>"
            ]
          },
          "metadata": {
            "tags": []
          }
        }
      ]
    },
    {
      "cell_type": "markdown",
      "metadata": {
        "id": "nZr6UVBTqIiu",
        "colab_type": "text"
      },
      "source": [
        "##Function for Model building"
      ]
    },
    {
      "cell_type": "code",
      "metadata": {
        "id": "0Mft5Q6wqHnW",
        "colab_type": "code",
        "colab": {}
      },
      "source": [
        "##create model function \n",
        "def create_model():\n",
        "  base_model=applications.resnet50.ResNet50(weights=None,include_top=False,input_shape = (40,40,1))\n",
        "  x = base_model.output\n",
        "  x = BatchNormalization()(x)\n",
        "  x = Activation('relu')(x)\n",
        "  x = AveragePooling2D(pool_size=2)(x)\n",
        "  z1 = Flatten()(x)\n",
        "  outputs = Dense(11,activation='softmax',kernel_initializer='he_normal')(z1)\n",
        "  rnet=Model(inputs=base_model.input,outputs=outputs)\n",
        "  model = Sequential()\n",
        "  model.add(Convolution2D(1,(3,3),padding='same',activation = 'relu',input_shape = (398,40,1)))\n",
        "  model.add(MaxPooling2D(pool_size=(2, 1)))\n",
        "  model.add(MaxPooling2D(pool_size=(2, 1)))\n",
        "  model.add(MaxPooling2D(pool_size=(2, 1)))\n",
        "  model.add(Convolution2D(1, 2, 1, activation='relu',use_bias=False))\n",
        "  model.add(Convolution2D(1, 3, 1, activation='relu',use_bias=False))\n",
        "  model.add(Convolution2D(1, 3, 1, activation='relu',use_bias=False))\n",
        "  model.add(Convolution2D(1, 3, 1, activation='relu',use_bias=False))\n",
        "  model.add(Convolution2D(1, 3, 1, activation='relu',use_bias=False))\n",
        "  model.add(rnet)\n",
        "  adam=Adam(lr=0.0001)\n",
        "  model.compile(optimizer=adam,loss='categorical_crossentropy',metrics=['accuracy'])\n",
        "  model.summary()\n",
        "  return model\n",
        "\n"
      ],
      "execution_count": 0,
      "outputs": []
    },
    {
      "cell_type": "code",
      "metadata": {
        "id": "4o5tKaksJY0Y",
        "colab_type": "code",
        "outputId": "503e4ec7-0716-40c3-96c4-3a733a5e143d",
        "colab": {
          "base_uri": "https://localhost:8080/",
          "height": 1000
        }
      },
      "source": [
        "model = create_model()\n",
        "model.fit(x_train,y_train,epochs=25,batch_size=100)"
      ],
      "execution_count": 0,
      "outputs": [
        {
          "output_type": "stream",
          "text": [
            "WARNING:tensorflow:From /usr/local/lib/python3.6/dist-packages/keras/backend/tensorflow_backend.py:66: The name tf.get_default_graph is deprecated. Please use tf.compat.v1.get_default_graph instead.\n",
            "\n",
            "WARNING:tensorflow:From /usr/local/lib/python3.6/dist-packages/keras/backend/tensorflow_backend.py:541: The name tf.placeholder is deprecated. Please use tf.compat.v1.placeholder instead.\n",
            "\n",
            "WARNING:tensorflow:From /usr/local/lib/python3.6/dist-packages/keras/backend/tensorflow_backend.py:4479: The name tf.truncated_normal is deprecated. Please use tf.random.truncated_normal instead.\n",
            "\n",
            "WARNING:tensorflow:From /usr/local/lib/python3.6/dist-packages/keras/backend/tensorflow_backend.py:190: The name tf.get_default_session is deprecated. Please use tf.compat.v1.get_default_session instead.\n",
            "\n",
            "WARNING:tensorflow:From /usr/local/lib/python3.6/dist-packages/keras/backend/tensorflow_backend.py:197: The name tf.ConfigProto is deprecated. Please use tf.compat.v1.ConfigProto instead.\n",
            "\n",
            "WARNING:tensorflow:From /usr/local/lib/python3.6/dist-packages/keras/backend/tensorflow_backend.py:203: The name tf.Session is deprecated. Please use tf.compat.v1.Session instead.\n",
            "\n",
            "WARNING:tensorflow:From /usr/local/lib/python3.6/dist-packages/keras/backend/tensorflow_backend.py:207: The name tf.global_variables is deprecated. Please use tf.compat.v1.global_variables instead.\n",
            "\n",
            "WARNING:tensorflow:From /usr/local/lib/python3.6/dist-packages/keras/backend/tensorflow_backend.py:216: The name tf.is_variable_initialized is deprecated. Please use tf.compat.v1.is_variable_initialized instead.\n",
            "\n",
            "WARNING:tensorflow:From /usr/local/lib/python3.6/dist-packages/keras/backend/tensorflow_backend.py:223: The name tf.variables_initializer is deprecated. Please use tf.compat.v1.variables_initializer instead.\n",
            "\n",
            "WARNING:tensorflow:From /usr/local/lib/python3.6/dist-packages/keras/backend/tensorflow_backend.py:2041: The name tf.nn.fused_batch_norm is deprecated. Please use tf.compat.v1.nn.fused_batch_norm instead.\n",
            "\n",
            "WARNING:tensorflow:From /usr/local/lib/python3.6/dist-packages/keras/backend/tensorflow_backend.py:148: The name tf.placeholder_with_default is deprecated. Please use tf.compat.v1.placeholder_with_default instead.\n",
            "\n",
            "WARNING:tensorflow:From /usr/local/lib/python3.6/dist-packages/keras/backend/tensorflow_backend.py:4267: The name tf.nn.max_pool is deprecated. Please use tf.nn.max_pool2d instead.\n",
            "\n",
            "WARNING:tensorflow:From /usr/local/lib/python3.6/dist-packages/keras/backend/tensorflow_backend.py:4271: The name tf.nn.avg_pool is deprecated. Please use tf.nn.avg_pool2d instead.\n",
            "\n",
            "WARNING:tensorflow:From /usr/local/lib/python3.6/dist-packages/keras/backend/tensorflow_backend.py:4432: The name tf.random_uniform is deprecated. Please use tf.random.uniform instead.\n",
            "\n"
          ],
          "name": "stdout"
        },
        {
          "output_type": "stream",
          "text": [
            "/usr/local/lib/python3.6/dist-packages/keras_applications/resnet50.py:265: UserWarning: The output shape of `ResNet50(include_top=False)` has been changed since Keras 2.2.0.\n",
            "  warnings.warn('The output shape of `ResNet50(include_top=False)` '\n",
            "/usr/local/lib/python3.6/dist-packages/ipykernel_launcher.py:15: UserWarning: Update your `Conv2D` call to the Keras 2 API: `Conv2D(1, (2, 1), activation=\"relu\", use_bias=False)`\n",
            "  from ipykernel import kernelapp as app\n",
            "/usr/local/lib/python3.6/dist-packages/ipykernel_launcher.py:16: UserWarning: Update your `Conv2D` call to the Keras 2 API: `Conv2D(1, (3, 1), activation=\"relu\", use_bias=False)`\n",
            "  app.launch_new_instance()\n",
            "/usr/local/lib/python3.6/dist-packages/ipykernel_launcher.py:17: UserWarning: Update your `Conv2D` call to the Keras 2 API: `Conv2D(1, (3, 1), activation=\"relu\", use_bias=False)`\n",
            "/usr/local/lib/python3.6/dist-packages/ipykernel_launcher.py:18: UserWarning: Update your `Conv2D` call to the Keras 2 API: `Conv2D(1, (3, 1), activation=\"relu\", use_bias=False)`\n",
            "/usr/local/lib/python3.6/dist-packages/ipykernel_launcher.py:19: UserWarning: Update your `Conv2D` call to the Keras 2 API: `Conv2D(1, (3, 1), activation=\"relu\", use_bias=False)`\n"
          ],
          "name": "stderr"
        },
        {
          "output_type": "stream",
          "text": [
            "WARNING:tensorflow:From /usr/local/lib/python3.6/dist-packages/keras/optimizers.py:793: The name tf.train.Optimizer is deprecated. Please use tf.compat.v1.train.Optimizer instead.\n",
            "\n",
            "WARNING:tensorflow:From /usr/local/lib/python3.6/dist-packages/keras/backend/tensorflow_backend.py:3576: The name tf.log is deprecated. Please use tf.math.log instead.\n",
            "\n",
            "Model: \"sequential_1\"\n",
            "_________________________________________________________________\n",
            "Layer (type)                 Output Shape              Param #   \n",
            "=================================================================\n",
            "conv2d_1 (Conv2D)            (None, 398, 40, 1)        10        \n",
            "_________________________________________________________________\n",
            "max_pooling2d_2 (MaxPooling2 (None, 199, 40, 1)        0         \n",
            "_________________________________________________________________\n",
            "max_pooling2d_3 (MaxPooling2 (None, 99, 40, 1)         0         \n",
            "_________________________________________________________________\n",
            "max_pooling2d_4 (MaxPooling2 (None, 49, 40, 1)         0         \n",
            "_________________________________________________________________\n",
            "conv2d_2 (Conv2D)            (None, 48, 40, 1)         2         \n",
            "_________________________________________________________________\n",
            "conv2d_3 (Conv2D)            (None, 46, 40, 1)         3         \n",
            "_________________________________________________________________\n",
            "conv2d_4 (Conv2D)            (None, 44, 40, 1)         3         \n",
            "_________________________________________________________________\n",
            "conv2d_5 (Conv2D)            (None, 42, 40, 1)         3         \n",
            "_________________________________________________________________\n",
            "conv2d_6 (Conv2D)            (None, 40, 40, 1)         3         \n",
            "_________________________________________________________________\n",
            "model_1 (Model)              (None, 11)                23612171  \n",
            "=================================================================\n",
            "Total params: 23,612,195\n",
            "Trainable params: 23,554,979\n",
            "Non-trainable params: 57,216\n",
            "_________________________________________________________________\n",
            "WARNING:tensorflow:From /usr/local/lib/python3.6/dist-packages/tensorflow_core/python/ops/math_grad.py:1424: where (from tensorflow.python.ops.array_ops) is deprecated and will be removed in a future version.\n",
            "Instructions for updating:\n",
            "Use tf.where in 2.0, which has the same broadcast rule as np.where\n",
            "WARNING:tensorflow:From /usr/local/lib/python3.6/dist-packages/keras/backend/tensorflow_backend.py:1033: The name tf.assign_add is deprecated. Please use tf.compat.v1.assign_add instead.\n",
            "\n",
            "WARNING:tensorflow:From /usr/local/lib/python3.6/dist-packages/keras/backend/tensorflow_backend.py:1020: The name tf.assign is deprecated. Please use tf.compat.v1.assign instead.\n",
            "\n",
            "Epoch 1/25\n",
            "13750/13750 [==============================] - 41s 3ms/step - loss: 2.2944 - acc: 0.1881\n",
            "Epoch 2/25\n",
            "13750/13750 [==============================] - 17s 1ms/step - loss: 1.9719 - acc: 0.3295\n",
            "Epoch 3/25\n",
            "13750/13750 [==============================] - 17s 1ms/step - loss: 1.6127 - acc: 0.4639\n",
            "Epoch 4/25\n",
            "13750/13750 [==============================] - 17s 1ms/step - loss: 1.1663 - acc: 0.6132\n",
            "Epoch 5/25\n",
            "13750/13750 [==============================] - 17s 1ms/step - loss: 0.7821 - acc: 0.7484\n",
            "Epoch 6/25\n",
            "13750/13750 [==============================] - 17s 1ms/step - loss: 0.4361 - acc: 0.8583\n",
            "Epoch 7/25\n",
            "13750/13750 [==============================] - 17s 1ms/step - loss: 0.2991 - acc: 0.9061\n",
            "Epoch 8/25\n",
            "13750/13750 [==============================] - 17s 1ms/step - loss: 0.2061 - acc: 0.9367\n",
            "Epoch 9/25\n",
            "13750/13750 [==============================] - 18s 1ms/step - loss: 0.1312 - acc: 0.9581\n",
            "Epoch 10/25\n",
            "13750/13750 [==============================] - 17s 1ms/step - loss: 0.1345 - acc: 0.9565\n",
            "Epoch 11/25\n",
            "13750/13750 [==============================] - 17s 1ms/step - loss: 0.1170 - acc: 0.9616\n",
            "Epoch 12/25\n",
            "13750/13750 [==============================] - 17s 1ms/step - loss: 0.1112 - acc: 0.9649\n",
            "Epoch 13/25\n",
            "13750/13750 [==============================] - 17s 1ms/step - loss: 0.0939 - acc: 0.9700\n",
            "Epoch 14/25\n",
            "13750/13750 [==============================] - 17s 1ms/step - loss: 0.0898 - acc: 0.9711\n",
            "Epoch 15/25\n",
            "13750/13750 [==============================] - 17s 1ms/step - loss: 0.0773 - acc: 0.9744\n",
            "Epoch 16/25\n",
            "13750/13750 [==============================] - 17s 1ms/step - loss: 0.0637 - acc: 0.9788\n",
            "Epoch 17/25\n",
            "13750/13750 [==============================] - 17s 1ms/step - loss: 0.0746 - acc: 0.9759\n",
            "Epoch 18/25\n",
            "13750/13750 [==============================] - 17s 1ms/step - loss: 0.0623 - acc: 0.9809\n",
            "Epoch 19/25\n",
            "13750/13750 [==============================] - 17s 1ms/step - loss: 0.0635 - acc: 0.9798\n",
            "Epoch 20/25\n",
            "13750/13750 [==============================] - 17s 1ms/step - loss: 0.0849 - acc: 0.9734\n",
            "Epoch 21/25\n",
            "13750/13750 [==============================] - 17s 1ms/step - loss: 0.0764 - acc: 0.9740\n",
            "Epoch 22/25\n",
            "13750/13750 [==============================] - 17s 1ms/step - loss: 0.0605 - acc: 0.9797\n",
            "Epoch 23/25\n",
            "13750/13750 [==============================] - 17s 1ms/step - loss: 0.0506 - acc: 0.9838\n",
            "Epoch 24/25\n",
            "13750/13750 [==============================] - 17s 1ms/step - loss: 0.0565 - acc: 0.9822\n",
            "Epoch 25/25\n",
            "13750/13750 [==============================] - 17s 1ms/step - loss: 0.0521 - acc: 0.9833\n"
          ],
          "name": "stdout"
        },
        {
          "output_type": "execute_result",
          "data": {
            "text/plain": [
              "<keras.callbacks.History at 0x7f35f86d03c8>"
            ]
          },
          "metadata": {
            "tags": []
          },
          "execution_count": 13
        }
      ]
    },
    {
      "cell_type": "code",
      "metadata": {
        "id": "9IjrJbMTM63e",
        "colab_type": "code",
        "outputId": "8f4b771f-a4f8-492f-c5aa-1448a5e8bae3",
        "colab": {
          "base_uri": "https://localhost:8080/",
          "height": 67
        }
      },
      "source": [
        "y_pred=model.predict(x_test)\n",
        "y_pred[0]"
      ],
      "execution_count": 0,
      "outputs": [
        {
          "output_type": "execute_result",
          "data": {
            "text/plain": [
              "array([2.03674193e-02, 1.45082580e-04, 2.00925618e-02, 4.40774560e-01,\n",
              "       1.09094590e-01, 6.15123212e-02, 1.11475736e-01, 1.00098958e-03,\n",
              "       4.16446012e-03, 1.07349694e-01, 1.24022543e-01], dtype=float32)"
            ]
          },
          "metadata": {
            "tags": []
          },
          "execution_count": 25
        }
      ]
    },
    {
      "cell_type": "code",
      "metadata": {
        "id": "kjcBhbG2QX7p",
        "colab_type": "code",
        "colab": {}
      },
      "source": [
        ""
      ],
      "execution_count": 0,
      "outputs": []
    },
    {
      "cell_type": "code",
      "metadata": {
        "id": "9Qnmx85fMoXD",
        "colab_type": "code",
        "outputId": "4470b2e2-957b-4276-cbb0-6f6cf9690916",
        "colab": {
          "base_uri": "https://localhost:8080/",
          "height": 50
        }
      },
      "source": [
        "import keras\n",
        "# from sklearn.metrics import accuracy_score\n",
        "# print(accuracy_score(y_test, y_pred))\n",
        "acc=0\n",
        "for i in range(len(y_test)):\n",
        "  count=0\n",
        "  for j in range(len(y_test[i])):\n",
        "    if(y_test[i][j]==round(y_pred[i][j],0)):\n",
        "      count+=1\n",
        "  if(count==11):\n",
        "    acc+=1\n",
        "print(acc,len(y_test))\n",
        "print(\"Accuracy is\",(acc/len(y_test))*100)"
      ],
      "execution_count": 0,
      "outputs": [
        {
          "output_type": "stream",
          "text": [
            "279 3740\n",
            "Accuracy is 7.459893048128342\n"
          ],
          "name": "stdout"
        }
      ]
    },
    {
      "cell_type": "markdown",
      "metadata": {
        "id": "vIgBf2m1qzjn",
        "colab_type": "text"
      },
      "source": [
        "##Functions for prediction\n"
      ]
    },
    {
      "cell_type": "code",
      "metadata": {
        "id": "mTdNKeMUqyzJ",
        "colab_type": "code",
        "colab": {}
      },
      "source": [
        "def prediction(targ):\n",
        "    accents = ['bengali','dogri','gujarathi','hindi','malayalam','manipuri','marathi','odisha','tamil','telugu','urdu']\n",
        "    np.set_printoptions(formatter={'float_kind':'{:.1f}'.format})\n",
        "    #np.set_printoptions(formatter={'float_kind':'{:.1f}'.format})\n",
        "    l=[]\n",
        "    out_len = len(targ)\n",
        "    in_len = len(targ[0])\n",
        "    for i in range(in_len):\n",
        "        sumi = 0\n",
        "        for j in range(out_len):\n",
        "            sumi+=targ[j][i]\n",
        "        l.append(sumi)\n",
        "    print(l)\n",
        "    maximum = -1\n",
        "    max_ind = -1\n",
        "    for i in range(len(l)):\n",
        "        if(l[i] > maximum):\n",
        "            maximum = l[i]\n",
        "            max_ind = i+1\n",
        "    # print(maximum, max_ind)\n",
        "    print(\"Accent: \",accents[max_ind-1])\n",
        "    for i in l:\n",
        "        if i!=0:\n",
        "            per = (i/float(out_len))*100\n",
        "            if(per>1):\n",
        "                print(\"{1:.2f}% -> {0}\".format(accents[l.index(i)],per))"
      ],
      "execution_count": 0,
      "outputs": []
    },
    {
      "cell_type": "code",
      "metadata": {
        "id": "m8FeeEnMrGKV",
        "colab_type": "code",
        "colab": {}
      },
      "source": [
        "## This is for testing \n",
        "def Pre_final_data(folder,files):\n",
        "    index=0\n",
        "    \n",
        "    mfcc=[]\n",
        "    target=[]\n",
        "    mfcc_len=length_audio(folder,files)\n",
        "    count=0\n",
        "    for z in range(0,mfcc_len,2):\n",
        "      count=count+1\n",
        "    data_dic = np.zeros((count,398,40))\n",
        "    for i in range(0,mfcc_len,2):\n",
        "        \n",
        "        mfcc = create_mfcc(folder,files,i)\n",
        "        for j in range(len(mfcc)):\n",
        "              for k in range(len(mfcc[j])):\n",
        "                data_dic[index][j][k] = mfcc[j][k]\n",
        "        index += 1\n",
        "        #target.append(mfcc)\n",
        "      #target=np.asarray()\n",
        "    \n",
        "    data_dic_reshaped = data_dic.reshape(data_dic.shape[0],398,40,1)\n",
        "    model = create_model()\n",
        "    #model.load_weights('drive/My Drive/Language3.h5')\n",
        "    model.load_weights('drive/My Drive/Language3.h5')\n",
        "    targ=model.predict(data_dic_reshaped)    \n",
        "    print(targ)\n",
        "    print(prediction(targ))\n",
        "    #print(data_dic_reshaped)"
      ],
      "execution_count": 0,
      "outputs": []
    },
    {
      "cell_type": "markdown",
      "metadata": {
        "id": "4v2Lw0rZlWEC",
        "colab_type": "text"
      },
      "source": [
        "##Functions need for testing data"
      ]
    },
    {
      "cell_type": "code",
      "metadata": {
        "id": "vTbeKBDarqNl",
        "colab_type": "code",
        "colab": {}
      },
      "source": [
        "# variables used in MFCC\n",
        "pre_emphasis = 0.97\n",
        "frame_size = 0.025\n",
        "frame_stride = 0.01\n",
        "NFFT = 512\n",
        "nfilt = 40\n",
        "num_ceps = 12\n",
        "cep_lifter =22"
      ],
      "execution_count": 0,
      "outputs": []
    },
    {
      "cell_type": "code",
      "metadata": {
        "id": "yNnCpyh-r3Mx",
        "colab_type": "code",
        "colab": {}
      },
      "source": [
        "# The below function is to find the length of the audio with given input foldername and filename\n",
        "def length_audio(folder_name,file_name):\n",
        "  file_path='/content/'+str(folder_name)+\"/\"+str(file_name)\n",
        "  sample_rate, signal = scipy.io.wavfile.read(file_path)\n",
        "  with contextlib.closing(wave.open(file_path,'r')) as f:\n",
        "      frames = f.getnframes()\n",
        "      rate = f.getframerate()\n",
        "      duration = frames / float(rate)\n",
        "  return int(duration)"
      ],
      "execution_count": 0,
      "outputs": []
    },
    {
      "cell_type": "code",
      "metadata": {
        "id": "lvoVYmiMsDgC",
        "colab_type": "code",
        "colab": {}
      },
      "source": [
        "def create_mfcc(folder_name,file_name,start_point):\n",
        "    file_path ='/content/'+str(folder_name)+\"/\"+str(file_name)\n",
        "    sample_rate, signal = scipy.io.wavfile.read(file_path)\n",
        "    signal = signal[start_point:int(start_point+2 * sample_rate)]   #framing to 2 seconds\n",
        "    emphasized_signal = numpy.append(signal[0], signal[1:] - pre_emphasis * signal[:-1]) #pre-emphasis\n",
        "    frame_length, frame_step = frame_size * sample_rate, frame_stride * sample_rate  # Convert from seconds to samples\n",
        "    signal_length = len(emphasized_signal)\n",
        "    frame_length = int(round(frame_length))\n",
        "    frame_step = int(round(frame_step))\n",
        "    num_frames = int(numpy.ceil(float(numpy.abs(signal_length - frame_length)) / frame_step))  # Make sure that we have at least 1 frame\n",
        "    pad_signal_length = num_frames * frame_step + frame_length\n",
        "    z = numpy.zeros((pad_signal_length - signal_length))\n",
        "    pad_signal = numpy.append(emphasized_signal, z) # Pad Signal to make sure that all frames have equal number of samples without truncating any samples from the original signal\n",
        "    indices = numpy.tile(numpy.arange(0, frame_length), (num_frames, 1)) + numpy.tile(numpy.arange(0, num_frames * frame_step, frame_step), (frame_length, 1)).T\n",
        "    frames = pad_signal[indices.astype(numpy.int32, copy=False)]\n",
        "    #After slicing the signal into frames, we apply a window function such as the Hamming window\n",
        "    frames *= numpy.hamming(frame_length)  #hamming window\n",
        "    mag_frames = numpy.absolute(numpy.fft.rfft(frames, NFFT))  # Magnitude of the FFT\n",
        "    pow_frames = ((1.0 / NFFT) * ((mag_frames) ** 2))  # Power Spectrum\n",
        "    low_freq_mel = 0\n",
        "    high_freq_mel = (2595 * numpy.log10(1 + (sample_rate / 2) / 700))  # Convert Hz to Mel\n",
        "    mel_points = numpy.linspace(low_freq_mel, high_freq_mel, nfilt + 2)  # Equally spaced in Mel scale\n",
        "    hz_points = (700 * (10**(mel_points / 2595) - 1))  # Convert Mel to Hz\n",
        "    bin = numpy.floor((NFFT + 1) * hz_points / sample_rate)\n",
        "\n",
        "    fbank = numpy.zeros((nfilt, int(numpy.floor(NFFT / 2 + 1))))\n",
        "    for m in range(1, nfilt + 1):\n",
        "        f_m_minus = int(bin[m - 1])   # left\n",
        "        f_m = int(bin[m])             # center\n",
        "        f_m_plus = int(bin[m + 1])    # right\n",
        "\n",
        "        for k in range(f_m_minus, f_m):\n",
        "            fbank[m - 1, k] = (k - bin[m - 1]) / (bin[m] - bin[m - 1])\n",
        "        for k in range(f_m, f_m_plus):\n",
        "            fbank[m - 1, k] = (bin[m + 1] - k) / (bin[m + 1] - bin[m])\n",
        "\n",
        "    filter_banks = numpy.dot(pow_frames, fbank.T)\n",
        "    filter_banks = numpy.where(filter_banks == 0, numpy.finfo(float).eps, filter_banks)  # Numerical Stability\n",
        "    filter_banks = 20 * numpy.log10(filter_banks)  # dB\n",
        "    mfcc = dct(filter_banks, type=2, axis=1, norm='ortho')[:, 1 : (num_ceps + 1)] # Keep 2-13\n",
        "    (nframes, ncoeff) = mfcc.shape\n",
        "    n = numpy.arange(ncoeff)\n",
        "    lift = 1 + (cep_lifter / 2) * numpy.sin(numpy.pi * n / cep_lifter)\n",
        "    mfcc *= lift  #*\n",
        "    \n",
        "    filter_banks -= (numpy.mean(filter_banks, axis=0) + 1e-8)\n",
        "    mfcc -= (numpy.mean(mfcc, axis=0) + 1e-8)\n",
        "    \n",
        "    return filter_banks"
      ],
      "execution_count": 0,
      "outputs": []
    },
    {
      "cell_type": "code",
      "metadata": {
        "id": "dvTvurU8Ccvy",
        "colab_type": "code",
        "outputId": "095f0ecf-ecc5-4694-dc86-4a47b277af67",
        "colab": {
          "base_uri": "https://localhost:8080/",
          "height": 50
        }
      },
      "source": [
        "import keras\n",
        "# from sklearn.metrics import accuracy_score\n",
        "# print(accuracy_score(Y_test, y_pred))\n",
        "acc=0\n",
        "for i in range(len()):\n",
        "  count=0\n",
        "  for j in range(len(test_tarModified[i])):\n",
        "    if(test_tarModified[i][j]==round(y_pred[i][j],0)):\n",
        "      count+=1\n",
        "  if(count==11):\n",
        "    acc+=1\n",
        "print(acc,len(test_tarModified))\n",
        "print(\"Accuracy is\",(acc/len(test_tarModified))*100)"
      ],
      "execution_count": 0,
      "outputs": [
        {
          "output_type": "stream",
          "text": [
            "3740/3740 [==============================] - 5s 1ms/step\n"
          ],
          "name": "stdout"
        },
        {
          "output_type": "execute_result",
          "data": {
            "text/plain": [
              "[2.397895336151123, 0.09090909090909091]"
            ]
          },
          "metadata": {
            "tags": []
          },
          "execution_count": 19
        }
      ]
    },
    {
      "cell_type": "code",
      "metadata": {
        "id": "hli-dtbrBzNf",
        "colab_type": "code",
        "outputId": "8bcc042f-7039-4971-b157-9c5fcde2f3f1",
        "colab": {
          "base_uri": "https://localhost:8080/",
          "height": 994
        }
      },
      "source": [
        "folder='drive/My Drive/testing'\n",
        "file='test_krish.wav'\n",
        "print(Pre_final_data(folder,file))"
      ],
      "execution_count": 0,
      "outputs": [
        {
          "output_type": "stream",
          "text": [
            "/usr/local/lib/python3.6/dist-packages/keras_applications/resnet50.py:265: UserWarning: The output shape of `ResNet50(include_top=False)` has been changed since Keras 2.2.0.\n",
            "  warnings.warn('The output shape of `ResNet50(include_top=False)` '\n",
            "/usr/local/lib/python3.6/dist-packages/ipykernel_launcher.py:15: UserWarning: Update your `Conv2D` call to the Keras 2 API: `Conv2D(1, (2, 1), activation=\"relu\", use_bias=False)`\n",
            "  from ipykernel import kernelapp as app\n",
            "/usr/local/lib/python3.6/dist-packages/ipykernel_launcher.py:16: UserWarning: Update your `Conv2D` call to the Keras 2 API: `Conv2D(1, (3, 1), activation=\"relu\", use_bias=False)`\n",
            "  app.launch_new_instance()\n",
            "/usr/local/lib/python3.6/dist-packages/ipykernel_launcher.py:17: UserWarning: Update your `Conv2D` call to the Keras 2 API: `Conv2D(1, (3, 1), activation=\"relu\", use_bias=False)`\n",
            "/usr/local/lib/python3.6/dist-packages/ipykernel_launcher.py:18: UserWarning: Update your `Conv2D` call to the Keras 2 API: `Conv2D(1, (3, 1), activation=\"relu\", use_bias=False)`\n",
            "/usr/local/lib/python3.6/dist-packages/ipykernel_launcher.py:19: UserWarning: Update your `Conv2D` call to the Keras 2 API: `Conv2D(1, (3, 1), activation=\"relu\", use_bias=False)`\n"
          ],
          "name": "stderr"
        },
        {
          "output_type": "stream",
          "text": [
            "Model: \"sequential_3\"\n",
            "_________________________________________________________________\n",
            "Layer (type)                 Output Shape              Param #   \n",
            "=================================================================\n",
            "conv2d_13 (Conv2D)           (None, 398, 40, 1)        10        \n",
            "_________________________________________________________________\n",
            "max_pooling2d_10 (MaxPooling (None, 199, 40, 1)        0         \n",
            "_________________________________________________________________\n",
            "max_pooling2d_11 (MaxPooling (None, 99, 40, 1)         0         \n",
            "_________________________________________________________________\n",
            "max_pooling2d_12 (MaxPooling (None, 49, 40, 1)         0         \n",
            "_________________________________________________________________\n",
            "conv2d_14 (Conv2D)           (None, 48, 40, 1)         2         \n",
            "_________________________________________________________________\n",
            "conv2d_15 (Conv2D)           (None, 46, 40, 1)         3         \n",
            "_________________________________________________________________\n",
            "conv2d_16 (Conv2D)           (None, 44, 40, 1)         3         \n",
            "_________________________________________________________________\n",
            "conv2d_17 (Conv2D)           (None, 42, 40, 1)         3         \n",
            "_________________________________________________________________\n",
            "conv2d_18 (Conv2D)           (None, 40, 40, 1)         3         \n",
            "_________________________________________________________________\n",
            "model_3 (Model)              (None, 11)                23612171  \n",
            "=================================================================\n",
            "Total params: 23,612,195\n",
            "Trainable params: 23,554,979\n",
            "Non-trainable params: 57,216\n",
            "_________________________________________________________________\n",
            "[[0.0 0.0 0.0 0.0 0.0 0.8 0.0 0.1 0.0 0.0 0.1]\n",
            " [0.1 0.0 0.0 0.0 0.0 0.0 0.0 0.0 0.3 0.5 0.0]\n",
            " [0.0 0.1 0.0 0.0 0.0 0.0 0.0 0.9 0.0 0.0 0.0]\n",
            " [0.0 1.0 0.0 0.0 0.0 0.0 0.0 0.0 0.0 0.0 0.0]\n",
            " [0.0 0.1 0.0 0.0 0.2 0.0 0.0 0.5 0.0 0.1 0.1]\n",
            " [0.0 0.1 0.0 0.0 0.7 0.0 0.0 0.1 0.0 0.0 0.0]\n",
            " [0.1 0.0 0.0 0.0 0.2 0.1 0.0 0.6 0.0 0.0 0.0]\n",
            " [0.0 0.9 0.0 0.0 0.1 0.0 0.0 0.0 0.0 0.0 0.0]]\n",
            "[0.2150825594071648, 2.165494742221199, 0.0002617183695292624, 0.034662088556956405, 1.2023301891749725, 0.9323150211685061, 0.006863910798301731, 2.206602541031316, 0.30889548865252436, 0.6819707644463051, 0.24552103754831478]\n",
            "Accent:  odisha\n",
            "2.69% -> bengali\n",
            "27.07% -> dogri\n",
            "15.03% -> malayalam\n",
            "11.65% -> manipuri\n",
            "27.58% -> odisha\n",
            "3.86% -> tamil\n",
            "8.52% -> telugu\n",
            "3.07% -> urdu\n",
            "None\n",
            "None\n"
          ],
          "name": "stdout"
        }
      ]
    },
    {
      "cell_type": "code",
      "metadata": {
        "id": "hB3ygOQrB7-t",
        "colab_type": "code",
        "colab": {}
      },
      "source": [
        ""
      ],
      "execution_count": 0,
      "outputs": []
    }
  ]
}