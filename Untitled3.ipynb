{
  "nbformat": 4,
  "nbformat_minor": 0,
  "metadata": {
    "colab": {
      "name": "Untitled3.ipynb",
      "provenance": [],
      "collapsed_sections": [],
      "include_colab_link": true
    },
    "kernelspec": {
      "name": "python3",
      "display_name": "Python 3"
    },
    "accelerator": "GPU"
  },
  "cells": [
    {
      "cell_type": "markdown",
      "metadata": {
        "id": "view-in-github",
        "colab_type": "text"
      },
      "source": [
        "<a href=\"https://colab.research.google.com/github/THARAKSAIRAM/SIH-2020/blob/master/Untitled3.ipynb\" target=\"_parent\"><img src=\"https://colab.research.google.com/assets/colab-badge.svg\" alt=\"Open In Colab\"/></a>"
      ]
    },
    {
      "cell_type": "code",
      "metadata": {
        "id": "NoToBMXqNTwo",
        "colab_type": "code",
        "outputId": "d73d131a-1832-4407-f419-bdcc261d7e45",
        "colab": {
          "base_uri": "https://localhost:8080/",
          "height": 121
        }
      },
      "source": [
        "from google.colab import drive\n",
        "drive.mount('/content/drive',force_remount=True)"
      ],
      "execution_count": 0,
      "outputs": [
        {
          "output_type": "stream",
          "text": [
            "Go to this URL in a browser: https://accounts.google.com/o/oauth2/auth?client_id=947318989803-6bn6qk8qdgf4n4g3pfee6491hc0brc4i.apps.googleusercontent.com&redirect_uri=urn%3aietf%3awg%3aoauth%3a2.0%3aoob&response_type=code&scope=email%20https%3a%2f%2fwww.googleapis.com%2fauth%2fdocs.test%20https%3a%2f%2fwww.googleapis.com%2fauth%2fdrive%20https%3a%2f%2fwww.googleapis.com%2fauth%2fdrive.photos.readonly%20https%3a%2f%2fwww.googleapis.com%2fauth%2fpeopleapi.readonly\n",
            "\n",
            "Enter your authorization code:\n",
            "··········\n",
            "Mounted at /content/drive\n"
          ],
          "name": "stdout"
        }
      ]
    },
    {
      "cell_type": "code",
      "metadata": {
        "id": "AF6IzvRpN1QB",
        "colab_type": "code",
        "outputId": "dadfe93f-5eca-49a9-b684-72da97b4b89d",
        "colab": {
          "base_uri": "https://localhost:8080/",
          "height": 67
        }
      },
      "source": [
        "!unzip -q \"/content/drive/My Drive/dataset_20.zip\"\n",
        "%ls"
      ],
      "execution_count": 0,
      "outputs": [
        {
          "output_type": "stream",
          "text": [
            "\u001b[0m\u001b[01;34mbengali_20\u001b[0m/  \u001b[01;34mgujarathi_20\u001b[0m/  \u001b[01;34mmanipuri_20\u001b[0m/  \u001b[01;34msample_data\u001b[0m/  \u001b[01;34murdu_20\u001b[0m/\n",
            "\u001b[01;34mdogri_20\u001b[0m/    \u001b[01;34mhindi_20\u001b[0m/      \u001b[01;34mmarathi_20\u001b[0m/   \u001b[01;34mtamil_20\u001b[0m/\n",
            "\u001b[01;34mdrive\u001b[0m/       \u001b[01;34mmalayalam_20\u001b[0m/  \u001b[01;34modisha_20\u001b[0m/    \u001b[01;34mtelugu_20\u001b[0m/\n"
          ],
          "name": "stdout"
        }
      ]
    },
    {
      "cell_type": "code",
      "metadata": {
        "id": "RSKpkviTOi5f",
        "colab_type": "code",
        "outputId": "142f39ba-e60d-47ee-defd-97adc9767e56",
        "colab": {
          "base_uri": "https://localhost:8080/",
          "height": 188
        }
      },
      "source": [
        "pip install python_speech_features\n"
      ],
      "execution_count": 0,
      "outputs": [
        {
          "output_type": "stream",
          "text": [
            "Collecting python_speech_features\n",
            "  Downloading https://files.pythonhosted.org/packages/ff/d1/94c59e20a2631985fbd2124c45177abaa9e0a4eee8ba8a305aa26fc02a8e/python_speech_features-0.6.tar.gz\n",
            "Building wheels for collected packages: python-speech-features\n",
            "  Building wheel for python-speech-features (setup.py) ... \u001b[?25l\u001b[?25hdone\n",
            "  Created wheel for python-speech-features: filename=python_speech_features-0.6-cp36-none-any.whl size=5889 sha256=d03ad9f828210d8d222aeafefce7c4e91dd90a5e383ce570268c322e50c74c7b\n",
            "  Stored in directory: /root/.cache/pip/wheels/3c/42/7c/f60e9d1b40015cd69b213ad90f7c18a9264cd745b9888134be\n",
            "Successfully built python-speech-features\n",
            "Installing collected packages: python-speech-features\n",
            "Successfully installed python-speech-features-0.6\n"
          ],
          "name": "stdout"
        }
      ]
    },
    {
      "cell_type": "code",
      "metadata": {
        "id": "QvSe_D1QQfD3",
        "colab_type": "code",
        "colab": {}
      },
      "source": [
        "from python_speech_features import mfcc,delta,logfbank "
      ],
      "execution_count": 0,
      "outputs": []
    },
    {
      "cell_type": "code",
      "metadata": {
        "id": "7Wdm6Q95RzMQ",
        "colab_type": "code",
        "colab": {}
      },
      "source": [
        "import numpy\n",
        "import scipy.io.wavfile\n",
        "import matplotlib.pyplot as plt\n",
        "import matplotlib.cm as cm\n",
        "import numpy as np\n",
        "import wave\n",
        "import contextlib\n",
        "from scipy.fftpack import dct\n",
        "import scipy.io.wavfile as wav"
      ],
      "execution_count": 0,
      "outputs": []
    },
    {
      "cell_type": "code",
      "metadata": {
        "id": "PTytRI74SGYo",
        "colab_type": "code",
        "colab": {}
      },
      "source": [
        "pre_emphasis = 0.97\n",
        "frame_size = 0.025\n",
        "frame_stride = 0.01\n",
        "NFFT = 512\n",
        "nfilt = 40\n",
        "num_ceps = 12\n",
        "cep_lifter =22"
      ],
      "execution_count": 0,
      "outputs": []
    },
    {
      "cell_type": "code",
      "metadata": {
        "id": "wIR3PbzqSLkg",
        "colab_type": "code",
        "colab": {}
      },
      "source": [
        "def length_audio(folder_name,file_name):\n",
        "  file_path='/content/'+str(folder_name)+\"/\"+str(file_name)\n",
        "  sample_rate, signal = scipy.io.wavfile.read(file_path)\n",
        "  with contextlib.closing(wave.open(file_path,'r')) as f:\n",
        "      frames = f.getnframes()\n",
        "      rate = f.getframerate()\n",
        "      duration = frames / float(rate)\n",
        "  return int(duration)"
      ],
      "execution_count": 0,
      "outputs": []
    },
    {
      "cell_type": "code",
      "metadata": {
        "id": "m6SDfjbfSngz",
        "colab_type": "code",
        "colab": {}
      },
      "source": [
        "def create_mfcc(folder_name,file_name,start_point):\n",
        "    file_path ='/content/'+str(folder_name)+\"/\"+str(file_name)\n",
        "    sample_rate, signal = scipy.io.wavfile.read(file_path)\n",
        "    signal = signal[start_point:int(start_point+2 * sample_rate)]   #framing to 2 seconds\n",
        "    emphasized_signal = numpy.append(signal[0], signal[1:] - pre_emphasis * signal[:-1]) #pre-emphasis\n",
        "    frame_length, frame_step = frame_size * sample_rate, frame_stride * sample_rate  # Convert from seconds to samples\n",
        "    signal_length = len(emphasized_signal)\n",
        "    frame_length = int(round(frame_length))\n",
        "    frame_step = int(round(frame_step))\n",
        "    num_frames = int(numpy.ceil(float(numpy.abs(signal_length - frame_length)) / frame_step))  # Make sure that we have at least 1 frame\n",
        "    pad_signal_length = num_frames * frame_step + frame_length\n",
        "    z = numpy.zeros((pad_signal_length - signal_length))\n",
        "    pad_signal = numpy.append(emphasized_signal, z) # Pad Signal to make sure that all frames have equal number of samples without truncating any samples from the original signal\n",
        "    indices = numpy.tile(numpy.arange(0, frame_length), (num_frames, 1)) + numpy.tile(numpy.arange(0, num_frames * frame_step, frame_step), (frame_length, 1)).T\n",
        "    frames = pad_signal[indices.astype(numpy.int32, copy=False)]\n",
        "    #After slicing the signal into frames, we apply a window function such as the Hamming window\n",
        "    frames *= numpy.hamming(frame_length)  #hamming window\n",
        "    mag_frames = numpy.absolute(numpy.fft.rfft(frames, NFFT))  # Magnitude of the FFT\n",
        "    pow_frames = ((1.0 / NFFT) * ((mag_frames) ** 2))  # Power Spectrum\n",
        "    low_freq_mel = 0\n",
        "    high_freq_mel = (2595 * numpy.log10(1 + (sample_rate / 2) / 700))  # Convert Hz to Mel\n",
        "    mel_points = numpy.linspace(low_freq_mel, high_freq_mel, nfilt + 2)  # Equally spaced in Mel scale\n",
        "    hz_points = (700 * (10**(mel_points / 2595) - 1))  # Convert Mel to Hz\n",
        "    bin = numpy.floor((NFFT + 1) * hz_points / sample_rate)\n",
        "\n",
        "    fbank = numpy.zeros((nfilt, int(numpy.floor(NFFT / 2 + 1))))\n",
        "    for m in range(1, nfilt + 1):\n",
        "        f_m_minus = int(bin[m - 1])   # left\n",
        "        f_m = int(bin[m])             # center\n",
        "        f_m_plus = int(bin[m + 1])    # right\n",
        "\n",
        "        for k in range(f_m_minus, f_m):\n",
        "            fbank[m - 1, k] = (k - bin[m - 1]) / (bin[m] - bin[m - 1])\n",
        "        for k in range(f_m, f_m_plus):\n",
        "            fbank[m - 1, k] = (bin[m + 1] - k) / (bin[m + 1] - bin[m])\n",
        "\n",
        "    filter_banks = numpy.dot(pow_frames, fbank.T)\n",
        "    filter_banks = numpy.where(filter_banks == 0, numpy.finfo(float).eps, filter_banks)  # Numerical Stability\n",
        "    filter_banks = 20 * numpy.log10(filter_banks)  # dB\n",
        "    mfcc = dct(filter_banks, type=2, axis=1, norm='ortho')[:, 1 : (num_ceps + 1)] # Keep 2-13\n",
        "    (nframes, ncoeff) = mfcc.shape\n",
        "    n = numpy.arange(ncoeff)\n",
        "    lift = 1 + (cep_lifter / 2) * numpy.sin(numpy.pi * n / cep_lifter)\n",
        "    mfcc *= lift  #*\n",
        "    \n",
        "    filter_banks -= (numpy.mean(filter_banks, axis=0) + 1e-8)\n",
        "    mfcc -= (numpy.mean(mfcc, axis=0) + 1e-8)\n",
        "    \n",
        "    return filter_banks"
      ],
      "execution_count": 0,
      "outputs": []
    },
    {
      "cell_type": "code",
      "metadata": {
        "id": "PrRCkOFiV276",
        "colab_type": "code",
        "colab": {}
      },
      "source": [
        "file_names=['bengali_20','dogri_20','gujarathi_20','hindi_20','malayalam_20','manipuri_20','marathi_20','odisha_20','tamil_20','telugu_20','urdu_20']"
      ],
      "execution_count": 0,
      "outputs": []
    },
    {
      "cell_type": "code",
      "metadata": {
        "id": "s9SV-Rq0TG9r",
        "colab_type": "code",
        "colab": {}
      },
      "source": [
        "\n",
        "def final_data(input_data):\n",
        "    data_dic = np.zeros((23650,398,40))\n",
        "    data_tar = np.zeros((23650))\n",
        "    index = 0\n",
        "    for inp in input_data:\n",
        "        mfcc_len=length_audio(file_names[input_data[inp]-1],inp)\n",
        "        for i in range(0,mfcc_len,2):\n",
        "            mfcc = create_mfcc(file_names[input_data[inp]-1],inp,i)\n",
        "            for j in range(len(mfcc)):\n",
        "              for k in range(len(mfcc[j])):\n",
        "                data_dic[index][j][k] = mfcc[j][k]\n",
        "            data_tar[index] = input_data[inp]\n",
        "            index += 1\n",
        "            # data_dict.append(mfcc)\n",
        "            # data_tar.append(input_data[inp]) \n",
        "    return data_dic,data_tar"
      ],
      "execution_count": 0,
      "outputs": []
    },
    {
      "cell_type": "code",
      "metadata": {
        "id": "8Gj8KE_7Yx1u",
        "colab_type": "code",
        "colab": {}
      },
      "source": [
        "\n",
        "languageName =[\"bengali\",\"dogri\",\"gujarathi\",\"hindi\",\"malayalam\",\"manipuri\",\"marathi\",\"odisha\",\"tamil\",\"telugu\",\"urdu\"]\n",
        "languageEntries = [253,181,178,179,125,154,364,300,242,183,206]\n",
        "languageCode = [1,2,3,4,5,6,7,8,9,10,11]\n",
        "input_data = {}\n",
        "for i in range(len(languageName)):\n",
        "    for j in range(1,languageEntries[i]+1):\n",
        "        input_data[languageName[i]+str(j)+\".wav\"] = languageCode[i]"
      ],
      "execution_count": 0,
      "outputs": []
    },
    {
      "cell_type": "code",
      "metadata": {
        "id": "P_oeeaEdV14N",
        "colab_type": "code",
        "colab": {}
      },
      "source": [
        "##################################################################################################\n",
        "input_data_output_dict,input_data_output_tar=final_data(input_data)\n",
        "##################################################################################################"
      ],
      "execution_count": 0,
      "outputs": []
    },
    {
      "cell_type": "code",
      "metadata": {
        "id": "6m-P0uOHRaiQ",
        "colab_type": "code",
        "colab": {}
      },
      "source": [
        "tarModified = np.zeros((23650,11))\n",
        "iter = 0\n",
        "for i in input_data_output_tar:\n",
        "  index = int(i)\n",
        "  tarModified[iter][index-1] = 1\n",
        "  iter += 1"
      ],
      "execution_count": 0,
      "outputs": []
    },
    {
      "cell_type": "code",
      "metadata": {
        "id": "egWZgfJDY9R5",
        "colab_type": "code",
        "outputId": "85ee94f3-1a68-41bd-b89c-997a55b3372f",
        "colab": {
          "base_uri": "https://localhost:8080/",
          "height": 50
        }
      },
      "source": [
        "print(len(input_data_output_dict))\n",
        "print(len(tarModified))"
      ],
      "execution_count": 0,
      "outputs": [
        {
          "output_type": "stream",
          "text": [
            "23650\n",
            "23650\n"
          ],
          "name": "stdout"
        }
      ]
    },
    {
      "cell_type": "code",
      "metadata": {
        "id": "SZ5rVw9RvbP2",
        "colab_type": "code",
        "colab": {}
      },
      "source": [
        "# Import train_test_split function\n",
        "from sklearn.model_selection import train_test_split\n",
        "\n",
        "# Split dataset into training set and test set\n",
        "X_train, X_test, Y_train, Y_test = train_test_split(input_data_output_dict,tarModified, test_size=0.25,random_state=109) # 75% training and 30% test"
      ],
      "execution_count": 0,
      "outputs": []
    },
    {
      "cell_type": "code",
      "metadata": {
        "id": "fv6oRth8XBmd",
        "colab_type": "code",
        "outputId": "841837fa-ac0c-48a6-ee93-e3dd1fc71af7",
        "colab": {
          "base_uri": "https://localhost:8080/",
          "height": 84
        }
      },
      "source": [
        "X_train=np.asarray(X_train)\n",
        "Y_train=np.asarray(Y_train)\n",
        "X_test=np.asarray(X_test)\n",
        "Y_test=np.asarray(Y_test)\n",
        "print(\"X_train : \"+str(X_train.shape)+str(X_train[0].shape))\n",
        "print(\"X_test : \"+str(X_test.shape)+str(X_test[0].shape))\n",
        "print(\"Y_train : \"+str(Y_train.shape))\n",
        "print(\"Y_test : \"+str(Y_test.shape))"
      ],
      "execution_count": 0,
      "outputs": [
        {
          "output_type": "stream",
          "text": [
            "X_train : (17737, 398, 40)(398, 40)\n",
            "X_test : (5913, 398, 40)(398, 40)\n",
            "Y_train : (17737, 11)\n",
            "Y_test : (5913, 11)\n"
          ],
          "name": "stdout"
        }
      ]
    },
    {
      "cell_type": "code",
      "metadata": {
        "id": "4m-8QmAQYDJ0",
        "colab_type": "code",
        "outputId": "11d2e5be-d446-4918-d6eb-389a9024068a",
        "colab": {
          "base_uri": "https://localhost:8080/",
          "height": 474
        }
      },
      "source": [
        "from keras import applications\n",
        "base_model=applications.resnet50.ResNet50(weights=None,include_top=False,input_shape = (398,40,1))\n"
      ],
      "execution_count": 0,
      "outputs": [
        {
          "output_type": "stream",
          "text": [
            "WARNING:tensorflow:From /usr/local/lib/python3.6/dist-packages/keras/backend/tensorflow_backend.py:66: The name tf.get_default_graph is deprecated. Please use tf.compat.v1.get_default_graph instead.\n",
            "\n",
            "WARNING:tensorflow:From /usr/local/lib/python3.6/dist-packages/keras/backend/tensorflow_backend.py:541: The name tf.placeholder is deprecated. Please use tf.compat.v1.placeholder instead.\n",
            "\n",
            "WARNING:tensorflow:From /usr/local/lib/python3.6/dist-packages/keras/backend/tensorflow_backend.py:4479: The name tf.truncated_normal is deprecated. Please use tf.random.truncated_normal instead.\n",
            "\n",
            "WARNING:tensorflow:From /usr/local/lib/python3.6/dist-packages/keras/backend/tensorflow_backend.py:190: The name tf.get_default_session is deprecated. Please use tf.compat.v1.get_default_session instead.\n",
            "\n",
            "WARNING:tensorflow:From /usr/local/lib/python3.6/dist-packages/keras/backend/tensorflow_backend.py:197: The name tf.ConfigProto is deprecated. Please use tf.compat.v1.ConfigProto instead.\n",
            "\n",
            "WARNING:tensorflow:From /usr/local/lib/python3.6/dist-packages/keras/backend/tensorflow_backend.py:203: The name tf.Session is deprecated. Please use tf.compat.v1.Session instead.\n",
            "\n",
            "WARNING:tensorflow:From /usr/local/lib/python3.6/dist-packages/keras/backend/tensorflow_backend.py:207: The name tf.global_variables is deprecated. Please use tf.compat.v1.global_variables instead.\n",
            "\n",
            "WARNING:tensorflow:From /usr/local/lib/python3.6/dist-packages/keras/backend/tensorflow_backend.py:216: The name tf.is_variable_initialized is deprecated. Please use tf.compat.v1.is_variable_initialized instead.\n",
            "\n",
            "WARNING:tensorflow:From /usr/local/lib/python3.6/dist-packages/keras/backend/tensorflow_backend.py:223: The name tf.variables_initializer is deprecated. Please use tf.compat.v1.variables_initializer instead.\n",
            "\n",
            "WARNING:tensorflow:From /usr/local/lib/python3.6/dist-packages/keras/backend/tensorflow_backend.py:2041: The name tf.nn.fused_batch_norm is deprecated. Please use tf.compat.v1.nn.fused_batch_norm instead.\n",
            "\n",
            "WARNING:tensorflow:From /usr/local/lib/python3.6/dist-packages/keras/backend/tensorflow_backend.py:148: The name tf.placeholder_with_default is deprecated. Please use tf.compat.v1.placeholder_with_default instead.\n",
            "\n",
            "WARNING:tensorflow:From /usr/local/lib/python3.6/dist-packages/keras/backend/tensorflow_backend.py:4267: The name tf.nn.max_pool is deprecated. Please use tf.nn.max_pool2d instead.\n",
            "\n"
          ],
          "name": "stdout"
        },
        {
          "output_type": "stream",
          "text": [
            "/usr/local/lib/python3.6/dist-packages/keras_applications/resnet50.py:265: UserWarning: The output shape of `ResNet50(include_top=False)` has been changed since Keras 2.2.0.\n",
            "  warnings.warn('The output shape of `ResNet50(include_top=False)` '\n"
          ],
          "name": "stderr"
        }
      ]
    },
    {
      "cell_type": "code",
      "metadata": {
        "id": "6ZmJe58mYMcE",
        "colab_type": "code",
        "colab": {}
      },
      "source": [
        "from keras.layers import GlobalAveragePooling2D,Dropout,Dense,BatchNormalization,Activation,AveragePooling2D,Flatten\n",
        "from keras.models import Model\n",
        "x = base_model.output"
      ],
      "execution_count": 0,
      "outputs": []
    },
    {
      "cell_type": "code",
      "metadata": {
        "id": "fKhTFgNNYP3f",
        "colab_type": "code",
        "outputId": "4e92d1c8-9d2d-49d4-a1e0-cb2cf74fdf43",
        "colab": {
          "base_uri": "https://localhost:8080/",
          "height": 1000
        }
      },
      "source": [
        "x = BatchNormalization()(x)\n",
        "x = Activation('relu')(x)\n",
        "x = AveragePooling2D(pool_size=2)(x)\n",
        "y = Flatten()(x)\n",
        "outputs = Dense(11,activation='softmax',kernel_initializer='he_normal')(y)\n",
        "rnet=Model(inputs=base_model.input,outputs=outputs)\n",
        "rnet.summary()"
      ],
      "execution_count": 0,
      "outputs": [
        {
          "output_type": "stream",
          "text": [
            "WARNING:tensorflow:From /usr/local/lib/python3.6/dist-packages/keras/backend/tensorflow_backend.py:4271: The name tf.nn.avg_pool is deprecated. Please use tf.nn.avg_pool2d instead.\n",
            "\n",
            "Model: \"model_1\"\n",
            "__________________________________________________________________________________________________\n",
            "Layer (type)                    Output Shape         Param #     Connected to                     \n",
            "==================================================================================================\n",
            "input_1 (InputLayer)            (None, 398, 40, 1)   0                                            \n",
            "__________________________________________________________________________________________________\n",
            "conv1_pad (ZeroPadding2D)       (None, 404, 46, 1)   0           input_1[0][0]                    \n",
            "__________________________________________________________________________________________________\n",
            "conv1 (Conv2D)                  (None, 199, 20, 64)  3200        conv1_pad[0][0]                  \n",
            "__________________________________________________________________________________________________\n",
            "bn_conv1 (BatchNormalization)   (None, 199, 20, 64)  256         conv1[0][0]                      \n",
            "__________________________________________________________________________________________________\n",
            "activation_1 (Activation)       (None, 199, 20, 64)  0           bn_conv1[0][0]                   \n",
            "__________________________________________________________________________________________________\n",
            "pool1_pad (ZeroPadding2D)       (None, 201, 22, 64)  0           activation_1[0][0]               \n",
            "__________________________________________________________________________________________________\n",
            "max_pooling2d_1 (MaxPooling2D)  (None, 100, 10, 64)  0           pool1_pad[0][0]                  \n",
            "__________________________________________________________________________________________________\n",
            "res2a_branch2a (Conv2D)         (None, 100, 10, 64)  4160        max_pooling2d_1[0][0]            \n",
            "__________________________________________________________________________________________________\n",
            "bn2a_branch2a (BatchNormalizati (None, 100, 10, 64)  256         res2a_branch2a[0][0]             \n",
            "__________________________________________________________________________________________________\n",
            "activation_2 (Activation)       (None, 100, 10, 64)  0           bn2a_branch2a[0][0]              \n",
            "__________________________________________________________________________________________________\n",
            "res2a_branch2b (Conv2D)         (None, 100, 10, 64)  36928       activation_2[0][0]               \n",
            "__________________________________________________________________________________________________\n",
            "bn2a_branch2b (BatchNormalizati (None, 100, 10, 64)  256         res2a_branch2b[0][0]             \n",
            "__________________________________________________________________________________________________\n",
            "activation_3 (Activation)       (None, 100, 10, 64)  0           bn2a_branch2b[0][0]              \n",
            "__________________________________________________________________________________________________\n",
            "res2a_branch2c (Conv2D)         (None, 100, 10, 256) 16640       activation_3[0][0]               \n",
            "__________________________________________________________________________________________________\n",
            "res2a_branch1 (Conv2D)          (None, 100, 10, 256) 16640       max_pooling2d_1[0][0]            \n",
            "__________________________________________________________________________________________________\n",
            "bn2a_branch2c (BatchNormalizati (None, 100, 10, 256) 1024        res2a_branch2c[0][0]             \n",
            "__________________________________________________________________________________________________\n",
            "bn2a_branch1 (BatchNormalizatio (None, 100, 10, 256) 1024        res2a_branch1[0][0]              \n",
            "__________________________________________________________________________________________________\n",
            "add_1 (Add)                     (None, 100, 10, 256) 0           bn2a_branch2c[0][0]              \n",
            "                                                                 bn2a_branch1[0][0]               \n",
            "__________________________________________________________________________________________________\n",
            "activation_4 (Activation)       (None, 100, 10, 256) 0           add_1[0][0]                      \n",
            "__________________________________________________________________________________________________\n",
            "res2b_branch2a (Conv2D)         (None, 100, 10, 64)  16448       activation_4[0][0]               \n",
            "__________________________________________________________________________________________________\n",
            "bn2b_branch2a (BatchNormalizati (None, 100, 10, 64)  256         res2b_branch2a[0][0]             \n",
            "__________________________________________________________________________________________________\n",
            "activation_5 (Activation)       (None, 100, 10, 64)  0           bn2b_branch2a[0][0]              \n",
            "__________________________________________________________________________________________________\n",
            "res2b_branch2b (Conv2D)         (None, 100, 10, 64)  36928       activation_5[0][0]               \n",
            "__________________________________________________________________________________________________\n",
            "bn2b_branch2b (BatchNormalizati (None, 100, 10, 64)  256         res2b_branch2b[0][0]             \n",
            "__________________________________________________________________________________________________\n",
            "activation_6 (Activation)       (None, 100, 10, 64)  0           bn2b_branch2b[0][0]              \n",
            "__________________________________________________________________________________________________\n",
            "res2b_branch2c (Conv2D)         (None, 100, 10, 256) 16640       activation_6[0][0]               \n",
            "__________________________________________________________________________________________________\n",
            "bn2b_branch2c (BatchNormalizati (None, 100, 10, 256) 1024        res2b_branch2c[0][0]             \n",
            "__________________________________________________________________________________________________\n",
            "add_2 (Add)                     (None, 100, 10, 256) 0           bn2b_branch2c[0][0]              \n",
            "                                                                 activation_4[0][0]               \n",
            "__________________________________________________________________________________________________\n",
            "activation_7 (Activation)       (None, 100, 10, 256) 0           add_2[0][0]                      \n",
            "__________________________________________________________________________________________________\n",
            "res2c_branch2a (Conv2D)         (None, 100, 10, 64)  16448       activation_7[0][0]               \n",
            "__________________________________________________________________________________________________\n",
            "bn2c_branch2a (BatchNormalizati (None, 100, 10, 64)  256         res2c_branch2a[0][0]             \n",
            "__________________________________________________________________________________________________\n",
            "activation_8 (Activation)       (None, 100, 10, 64)  0           bn2c_branch2a[0][0]              \n",
            "__________________________________________________________________________________________________\n",
            "res2c_branch2b (Conv2D)         (None, 100, 10, 64)  36928       activation_8[0][0]               \n",
            "__________________________________________________________________________________________________\n",
            "bn2c_branch2b (BatchNormalizati (None, 100, 10, 64)  256         res2c_branch2b[0][0]             \n",
            "__________________________________________________________________________________________________\n",
            "activation_9 (Activation)       (None, 100, 10, 64)  0           bn2c_branch2b[0][0]              \n",
            "__________________________________________________________________________________________________\n",
            "res2c_branch2c (Conv2D)         (None, 100, 10, 256) 16640       activation_9[0][0]               \n",
            "__________________________________________________________________________________________________\n",
            "bn2c_branch2c (BatchNormalizati (None, 100, 10, 256) 1024        res2c_branch2c[0][0]             \n",
            "__________________________________________________________________________________________________\n",
            "add_3 (Add)                     (None, 100, 10, 256) 0           bn2c_branch2c[0][0]              \n",
            "                                                                 activation_7[0][0]               \n",
            "__________________________________________________________________________________________________\n",
            "activation_10 (Activation)      (None, 100, 10, 256) 0           add_3[0][0]                      \n",
            "__________________________________________________________________________________________________\n",
            "res3a_branch2a (Conv2D)         (None, 50, 5, 128)   32896       activation_10[0][0]              \n",
            "__________________________________________________________________________________________________\n",
            "bn3a_branch2a (BatchNormalizati (None, 50, 5, 128)   512         res3a_branch2a[0][0]             \n",
            "__________________________________________________________________________________________________\n",
            "activation_11 (Activation)      (None, 50, 5, 128)   0           bn3a_branch2a[0][0]              \n",
            "__________________________________________________________________________________________________\n",
            "res3a_branch2b (Conv2D)         (None, 50, 5, 128)   147584      activation_11[0][0]              \n",
            "__________________________________________________________________________________________________\n",
            "bn3a_branch2b (BatchNormalizati (None, 50, 5, 128)   512         res3a_branch2b[0][0]             \n",
            "__________________________________________________________________________________________________\n",
            "activation_12 (Activation)      (None, 50, 5, 128)   0           bn3a_branch2b[0][0]              \n",
            "__________________________________________________________________________________________________\n",
            "res3a_branch2c (Conv2D)         (None, 50, 5, 512)   66048       activation_12[0][0]              \n",
            "__________________________________________________________________________________________________\n",
            "res3a_branch1 (Conv2D)          (None, 50, 5, 512)   131584      activation_10[0][0]              \n",
            "__________________________________________________________________________________________________\n",
            "bn3a_branch2c (BatchNormalizati (None, 50, 5, 512)   2048        res3a_branch2c[0][0]             \n",
            "__________________________________________________________________________________________________\n",
            "bn3a_branch1 (BatchNormalizatio (None, 50, 5, 512)   2048        res3a_branch1[0][0]              \n",
            "__________________________________________________________________________________________________\n",
            "add_4 (Add)                     (None, 50, 5, 512)   0           bn3a_branch2c[0][0]              \n",
            "                                                                 bn3a_branch1[0][0]               \n",
            "__________________________________________________________________________________________________\n",
            "activation_13 (Activation)      (None, 50, 5, 512)   0           add_4[0][0]                      \n",
            "__________________________________________________________________________________________________\n",
            "res3b_branch2a (Conv2D)         (None, 50, 5, 128)   65664       activation_13[0][0]              \n",
            "__________________________________________________________________________________________________\n",
            "bn3b_branch2a (BatchNormalizati (None, 50, 5, 128)   512         res3b_branch2a[0][0]             \n",
            "__________________________________________________________________________________________________\n",
            "activation_14 (Activation)      (None, 50, 5, 128)   0           bn3b_branch2a[0][0]              \n",
            "__________________________________________________________________________________________________\n",
            "res3b_branch2b (Conv2D)         (None, 50, 5, 128)   147584      activation_14[0][0]              \n",
            "__________________________________________________________________________________________________\n",
            "bn3b_branch2b (BatchNormalizati (None, 50, 5, 128)   512         res3b_branch2b[0][0]             \n",
            "__________________________________________________________________________________________________\n",
            "activation_15 (Activation)      (None, 50, 5, 128)   0           bn3b_branch2b[0][0]              \n",
            "__________________________________________________________________________________________________\n",
            "res3b_branch2c (Conv2D)         (None, 50, 5, 512)   66048       activation_15[0][0]              \n",
            "__________________________________________________________________________________________________\n",
            "bn3b_branch2c (BatchNormalizati (None, 50, 5, 512)   2048        res3b_branch2c[0][0]             \n",
            "__________________________________________________________________________________________________\n",
            "add_5 (Add)                     (None, 50, 5, 512)   0           bn3b_branch2c[0][0]              \n",
            "                                                                 activation_13[0][0]              \n",
            "__________________________________________________________________________________________________\n",
            "activation_16 (Activation)      (None, 50, 5, 512)   0           add_5[0][0]                      \n",
            "__________________________________________________________________________________________________\n",
            "res3c_branch2a (Conv2D)         (None, 50, 5, 128)   65664       activation_16[0][0]              \n",
            "__________________________________________________________________________________________________\n",
            "bn3c_branch2a (BatchNormalizati (None, 50, 5, 128)   512         res3c_branch2a[0][0]             \n",
            "__________________________________________________________________________________________________\n",
            "activation_17 (Activation)      (None, 50, 5, 128)   0           bn3c_branch2a[0][0]              \n",
            "__________________________________________________________________________________________________\n",
            "res3c_branch2b (Conv2D)         (None, 50, 5, 128)   147584      activation_17[0][0]              \n",
            "__________________________________________________________________________________________________\n",
            "bn3c_branch2b (BatchNormalizati (None, 50, 5, 128)   512         res3c_branch2b[0][0]             \n",
            "__________________________________________________________________________________________________\n",
            "activation_18 (Activation)      (None, 50, 5, 128)   0           bn3c_branch2b[0][0]              \n",
            "__________________________________________________________________________________________________\n",
            "res3c_branch2c (Conv2D)         (None, 50, 5, 512)   66048       activation_18[0][0]              \n",
            "__________________________________________________________________________________________________\n",
            "bn3c_branch2c (BatchNormalizati (None, 50, 5, 512)   2048        res3c_branch2c[0][0]             \n",
            "__________________________________________________________________________________________________\n",
            "add_6 (Add)                     (None, 50, 5, 512)   0           bn3c_branch2c[0][0]              \n",
            "                                                                 activation_16[0][0]              \n",
            "__________________________________________________________________________________________________\n",
            "activation_19 (Activation)      (None, 50, 5, 512)   0           add_6[0][0]                      \n",
            "__________________________________________________________________________________________________\n",
            "res3d_branch2a (Conv2D)         (None, 50, 5, 128)   65664       activation_19[0][0]              \n",
            "__________________________________________________________________________________________________\n",
            "bn3d_branch2a (BatchNormalizati (None, 50, 5, 128)   512         res3d_branch2a[0][0]             \n",
            "__________________________________________________________________________________________________\n",
            "activation_20 (Activation)      (None, 50, 5, 128)   0           bn3d_branch2a[0][0]              \n",
            "__________________________________________________________________________________________________\n",
            "res3d_branch2b (Conv2D)         (None, 50, 5, 128)   147584      activation_20[0][0]              \n",
            "__________________________________________________________________________________________________\n",
            "bn3d_branch2b (BatchNormalizati (None, 50, 5, 128)   512         res3d_branch2b[0][0]             \n",
            "__________________________________________________________________________________________________\n",
            "activation_21 (Activation)      (None, 50, 5, 128)   0           bn3d_branch2b[0][0]              \n",
            "__________________________________________________________________________________________________\n",
            "res3d_branch2c (Conv2D)         (None, 50, 5, 512)   66048       activation_21[0][0]              \n",
            "__________________________________________________________________________________________________\n",
            "bn3d_branch2c (BatchNormalizati (None, 50, 5, 512)   2048        res3d_branch2c[0][0]             \n",
            "__________________________________________________________________________________________________\n",
            "add_7 (Add)                     (None, 50, 5, 512)   0           bn3d_branch2c[0][0]              \n",
            "                                                                 activation_19[0][0]              \n",
            "__________________________________________________________________________________________________\n",
            "activation_22 (Activation)      (None, 50, 5, 512)   0           add_7[0][0]                      \n",
            "__________________________________________________________________________________________________\n",
            "res4a_branch2a (Conv2D)         (None, 25, 3, 256)   131328      activation_22[0][0]              \n",
            "__________________________________________________________________________________________________\n",
            "bn4a_branch2a (BatchNormalizati (None, 25, 3, 256)   1024        res4a_branch2a[0][0]             \n",
            "__________________________________________________________________________________________________\n",
            "activation_23 (Activation)      (None, 25, 3, 256)   0           bn4a_branch2a[0][0]              \n",
            "__________________________________________________________________________________________________\n",
            "res4a_branch2b (Conv2D)         (None, 25, 3, 256)   590080      activation_23[0][0]              \n",
            "__________________________________________________________________________________________________\n",
            "bn4a_branch2b (BatchNormalizati (None, 25, 3, 256)   1024        res4a_branch2b[0][0]             \n",
            "__________________________________________________________________________________________________\n",
            "activation_24 (Activation)      (None, 25, 3, 256)   0           bn4a_branch2b[0][0]              \n",
            "__________________________________________________________________________________________________\n",
            "res4a_branch2c (Conv2D)         (None, 25, 3, 1024)  263168      activation_24[0][0]              \n",
            "__________________________________________________________________________________________________\n",
            "res4a_branch1 (Conv2D)          (None, 25, 3, 1024)  525312      activation_22[0][0]              \n",
            "__________________________________________________________________________________________________\n",
            "bn4a_branch2c (BatchNormalizati (None, 25, 3, 1024)  4096        res4a_branch2c[0][0]             \n",
            "__________________________________________________________________________________________________\n",
            "bn4a_branch1 (BatchNormalizatio (None, 25, 3, 1024)  4096        res4a_branch1[0][0]              \n",
            "__________________________________________________________________________________________________\n",
            "add_8 (Add)                     (None, 25, 3, 1024)  0           bn4a_branch2c[0][0]              \n",
            "                                                                 bn4a_branch1[0][0]               \n",
            "__________________________________________________________________________________________________\n",
            "activation_25 (Activation)      (None, 25, 3, 1024)  0           add_8[0][0]                      \n",
            "__________________________________________________________________________________________________\n",
            "res4b_branch2a (Conv2D)         (None, 25, 3, 256)   262400      activation_25[0][0]              \n",
            "__________________________________________________________________________________________________\n",
            "bn4b_branch2a (BatchNormalizati (None, 25, 3, 256)   1024        res4b_branch2a[0][0]             \n",
            "__________________________________________________________________________________________________\n",
            "activation_26 (Activation)      (None, 25, 3, 256)   0           bn4b_branch2a[0][0]              \n",
            "__________________________________________________________________________________________________\n",
            "res4b_branch2b (Conv2D)         (None, 25, 3, 256)   590080      activation_26[0][0]              \n",
            "__________________________________________________________________________________________________\n",
            "bn4b_branch2b (BatchNormalizati (None, 25, 3, 256)   1024        res4b_branch2b[0][0]             \n",
            "__________________________________________________________________________________________________\n",
            "activation_27 (Activation)      (None, 25, 3, 256)   0           bn4b_branch2b[0][0]              \n",
            "__________________________________________________________________________________________________\n",
            "res4b_branch2c (Conv2D)         (None, 25, 3, 1024)  263168      activation_27[0][0]              \n",
            "__________________________________________________________________________________________________\n",
            "bn4b_branch2c (BatchNormalizati (None, 25, 3, 1024)  4096        res4b_branch2c[0][0]             \n",
            "__________________________________________________________________________________________________\n",
            "add_9 (Add)                     (None, 25, 3, 1024)  0           bn4b_branch2c[0][0]              \n",
            "                                                                 activation_25[0][0]              \n",
            "__________________________________________________________________________________________________\n",
            "activation_28 (Activation)      (None, 25, 3, 1024)  0           add_9[0][0]                      \n",
            "__________________________________________________________________________________________________\n",
            "res4c_branch2a (Conv2D)         (None, 25, 3, 256)   262400      activation_28[0][0]              \n",
            "__________________________________________________________________________________________________\n",
            "bn4c_branch2a (BatchNormalizati (None, 25, 3, 256)   1024        res4c_branch2a[0][0]             \n",
            "__________________________________________________________________________________________________\n",
            "activation_29 (Activation)      (None, 25, 3, 256)   0           bn4c_branch2a[0][0]              \n",
            "__________________________________________________________________________________________________\n",
            "res4c_branch2b (Conv2D)         (None, 25, 3, 256)   590080      activation_29[0][0]              \n",
            "__________________________________________________________________________________________________\n",
            "bn4c_branch2b (BatchNormalizati (None, 25, 3, 256)   1024        res4c_branch2b[0][0]             \n",
            "__________________________________________________________________________________________________\n",
            "activation_30 (Activation)      (None, 25, 3, 256)   0           bn4c_branch2b[0][0]              \n",
            "__________________________________________________________________________________________________\n",
            "res4c_branch2c (Conv2D)         (None, 25, 3, 1024)  263168      activation_30[0][0]              \n",
            "__________________________________________________________________________________________________\n",
            "bn4c_branch2c (BatchNormalizati (None, 25, 3, 1024)  4096        res4c_branch2c[0][0]             \n",
            "__________________________________________________________________________________________________\n",
            "add_10 (Add)                    (None, 25, 3, 1024)  0           bn4c_branch2c[0][0]              \n",
            "                                                                 activation_28[0][0]              \n",
            "__________________________________________________________________________________________________\n",
            "activation_31 (Activation)      (None, 25, 3, 1024)  0           add_10[0][0]                     \n",
            "__________________________________________________________________________________________________\n",
            "res4d_branch2a (Conv2D)         (None, 25, 3, 256)   262400      activation_31[0][0]              \n",
            "__________________________________________________________________________________________________\n",
            "bn4d_branch2a (BatchNormalizati (None, 25, 3, 256)   1024        res4d_branch2a[0][0]             \n",
            "__________________________________________________________________________________________________\n",
            "activation_32 (Activation)      (None, 25, 3, 256)   0           bn4d_branch2a[0][0]              \n",
            "__________________________________________________________________________________________________\n",
            "res4d_branch2b (Conv2D)         (None, 25, 3, 256)   590080      activation_32[0][0]              \n",
            "__________________________________________________________________________________________________\n",
            "bn4d_branch2b (BatchNormalizati (None, 25, 3, 256)   1024        res4d_branch2b[0][0]             \n",
            "__________________________________________________________________________________________________\n",
            "activation_33 (Activation)      (None, 25, 3, 256)   0           bn4d_branch2b[0][0]              \n",
            "__________________________________________________________________________________________________\n",
            "res4d_branch2c (Conv2D)         (None, 25, 3, 1024)  263168      activation_33[0][0]              \n",
            "__________________________________________________________________________________________________\n",
            "bn4d_branch2c (BatchNormalizati (None, 25, 3, 1024)  4096        res4d_branch2c[0][0]             \n",
            "__________________________________________________________________________________________________\n",
            "add_11 (Add)                    (None, 25, 3, 1024)  0           bn4d_branch2c[0][0]              \n",
            "                                                                 activation_31[0][0]              \n",
            "__________________________________________________________________________________________________\n",
            "activation_34 (Activation)      (None, 25, 3, 1024)  0           add_11[0][0]                     \n",
            "__________________________________________________________________________________________________\n",
            "res4e_branch2a (Conv2D)         (None, 25, 3, 256)   262400      activation_34[0][0]              \n",
            "__________________________________________________________________________________________________\n",
            "bn4e_branch2a (BatchNormalizati (None, 25, 3, 256)   1024        res4e_branch2a[0][0]             \n",
            "__________________________________________________________________________________________________\n",
            "activation_35 (Activation)      (None, 25, 3, 256)   0           bn4e_branch2a[0][0]              \n",
            "__________________________________________________________________________________________________\n",
            "res4e_branch2b (Conv2D)         (None, 25, 3, 256)   590080      activation_35[0][0]              \n",
            "__________________________________________________________________________________________________\n",
            "bn4e_branch2b (BatchNormalizati (None, 25, 3, 256)   1024        res4e_branch2b[0][0]             \n",
            "__________________________________________________________________________________________________\n",
            "activation_36 (Activation)      (None, 25, 3, 256)   0           bn4e_branch2b[0][0]              \n",
            "__________________________________________________________________________________________________\n",
            "res4e_branch2c (Conv2D)         (None, 25, 3, 1024)  263168      activation_36[0][0]              \n",
            "__________________________________________________________________________________________________\n",
            "bn4e_branch2c (BatchNormalizati (None, 25, 3, 1024)  4096        res4e_branch2c[0][0]             \n",
            "__________________________________________________________________________________________________\n",
            "add_12 (Add)                    (None, 25, 3, 1024)  0           bn4e_branch2c[0][0]              \n",
            "                                                                 activation_34[0][0]              \n",
            "__________________________________________________________________________________________________\n",
            "activation_37 (Activation)      (None, 25, 3, 1024)  0           add_12[0][0]                     \n",
            "__________________________________________________________________________________________________\n",
            "res4f_branch2a (Conv2D)         (None, 25, 3, 256)   262400      activation_37[0][0]              \n",
            "__________________________________________________________________________________________________\n",
            "bn4f_branch2a (BatchNormalizati (None, 25, 3, 256)   1024        res4f_branch2a[0][0]             \n",
            "__________________________________________________________________________________________________\n",
            "activation_38 (Activation)      (None, 25, 3, 256)   0           bn4f_branch2a[0][0]              \n",
            "__________________________________________________________________________________________________\n",
            "res4f_branch2b (Conv2D)         (None, 25, 3, 256)   590080      activation_38[0][0]              \n",
            "__________________________________________________________________________________________________\n",
            "bn4f_branch2b (BatchNormalizati (None, 25, 3, 256)   1024        res4f_branch2b[0][0]             \n",
            "__________________________________________________________________________________________________\n",
            "activation_39 (Activation)      (None, 25, 3, 256)   0           bn4f_branch2b[0][0]              \n",
            "__________________________________________________________________________________________________\n",
            "res4f_branch2c (Conv2D)         (None, 25, 3, 1024)  263168      activation_39[0][0]              \n",
            "__________________________________________________________________________________________________\n",
            "bn4f_branch2c (BatchNormalizati (None, 25, 3, 1024)  4096        res4f_branch2c[0][0]             \n",
            "__________________________________________________________________________________________________\n",
            "add_13 (Add)                    (None, 25, 3, 1024)  0           bn4f_branch2c[0][0]              \n",
            "                                                                 activation_37[0][0]              \n",
            "__________________________________________________________________________________________________\n",
            "activation_40 (Activation)      (None, 25, 3, 1024)  0           add_13[0][0]                     \n",
            "__________________________________________________________________________________________________\n",
            "res5a_branch2a (Conv2D)         (None, 13, 2, 512)   524800      activation_40[0][0]              \n",
            "__________________________________________________________________________________________________\n",
            "bn5a_branch2a (BatchNormalizati (None, 13, 2, 512)   2048        res5a_branch2a[0][0]             \n",
            "__________________________________________________________________________________________________\n",
            "activation_41 (Activation)      (None, 13, 2, 512)   0           bn5a_branch2a[0][0]              \n",
            "__________________________________________________________________________________________________\n",
            "res5a_branch2b (Conv2D)         (None, 13, 2, 512)   2359808     activation_41[0][0]              \n",
            "__________________________________________________________________________________________________\n",
            "bn5a_branch2b (BatchNormalizati (None, 13, 2, 512)   2048        res5a_branch2b[0][0]             \n",
            "__________________________________________________________________________________________________\n",
            "activation_42 (Activation)      (None, 13, 2, 512)   0           bn5a_branch2b[0][0]              \n",
            "__________________________________________________________________________________________________\n",
            "res5a_branch2c (Conv2D)         (None, 13, 2, 2048)  1050624     activation_42[0][0]              \n",
            "__________________________________________________________________________________________________\n",
            "res5a_branch1 (Conv2D)          (None, 13, 2, 2048)  2099200     activation_40[0][0]              \n",
            "__________________________________________________________________________________________________\n",
            "bn5a_branch2c (BatchNormalizati (None, 13, 2, 2048)  8192        res5a_branch2c[0][0]             \n",
            "__________________________________________________________________________________________________\n",
            "bn5a_branch1 (BatchNormalizatio (None, 13, 2, 2048)  8192        res5a_branch1[0][0]              \n",
            "__________________________________________________________________________________________________\n",
            "add_14 (Add)                    (None, 13, 2, 2048)  0           bn5a_branch2c[0][0]              \n",
            "                                                                 bn5a_branch1[0][0]               \n",
            "__________________________________________________________________________________________________\n",
            "activation_43 (Activation)      (None, 13, 2, 2048)  0           add_14[0][0]                     \n",
            "__________________________________________________________________________________________________\n",
            "res5b_branch2a (Conv2D)         (None, 13, 2, 512)   1049088     activation_43[0][0]              \n",
            "__________________________________________________________________________________________________\n",
            "bn5b_branch2a (BatchNormalizati (None, 13, 2, 512)   2048        res5b_branch2a[0][0]             \n",
            "__________________________________________________________________________________________________\n",
            "activation_44 (Activation)      (None, 13, 2, 512)   0           bn5b_branch2a[0][0]              \n",
            "__________________________________________________________________________________________________\n",
            "res5b_branch2b (Conv2D)         (None, 13, 2, 512)   2359808     activation_44[0][0]              \n",
            "__________________________________________________________________________________________________\n",
            "bn5b_branch2b (BatchNormalizati (None, 13, 2, 512)   2048        res5b_branch2b[0][0]             \n",
            "__________________________________________________________________________________________________\n",
            "activation_45 (Activation)      (None, 13, 2, 512)   0           bn5b_branch2b[0][0]              \n",
            "__________________________________________________________________________________________________\n",
            "res5b_branch2c (Conv2D)         (None, 13, 2, 2048)  1050624     activation_45[0][0]              \n",
            "__________________________________________________________________________________________________\n",
            "bn5b_branch2c (BatchNormalizati (None, 13, 2, 2048)  8192        res5b_branch2c[0][0]             \n",
            "__________________________________________________________________________________________________\n",
            "add_15 (Add)                    (None, 13, 2, 2048)  0           bn5b_branch2c[0][0]              \n",
            "                                                                 activation_43[0][0]              \n",
            "__________________________________________________________________________________________________\n",
            "activation_46 (Activation)      (None, 13, 2, 2048)  0           add_15[0][0]                     \n",
            "__________________________________________________________________________________________________\n",
            "res5c_branch2a (Conv2D)         (None, 13, 2, 512)   1049088     activation_46[0][0]              \n",
            "__________________________________________________________________________________________________\n",
            "bn5c_branch2a (BatchNormalizati (None, 13, 2, 512)   2048        res5c_branch2a[0][0]             \n",
            "__________________________________________________________________________________________________\n",
            "activation_47 (Activation)      (None, 13, 2, 512)   0           bn5c_branch2a[0][0]              \n",
            "__________________________________________________________________________________________________\n",
            "res5c_branch2b (Conv2D)         (None, 13, 2, 512)   2359808     activation_47[0][0]              \n",
            "__________________________________________________________________________________________________\n",
            "bn5c_branch2b (BatchNormalizati (None, 13, 2, 512)   2048        res5c_branch2b[0][0]             \n",
            "__________________________________________________________________________________________________\n",
            "activation_48 (Activation)      (None, 13, 2, 512)   0           bn5c_branch2b[0][0]              \n",
            "__________________________________________________________________________________________________\n",
            "res5c_branch2c (Conv2D)         (None, 13, 2, 2048)  1050624     activation_48[0][0]              \n",
            "__________________________________________________________________________________________________\n",
            "bn5c_branch2c (BatchNormalizati (None, 13, 2, 2048)  8192        res5c_branch2c[0][0]             \n",
            "__________________________________________________________________________________________________\n",
            "add_16 (Add)                    (None, 13, 2, 2048)  0           bn5c_branch2c[0][0]              \n",
            "                                                                 activation_46[0][0]              \n",
            "__________________________________________________________________________________________________\n",
            "activation_49 (Activation)      (None, 13, 2, 2048)  0           add_16[0][0]                     \n",
            "__________________________________________________________________________________________________\n",
            "batch_normalization_1 (BatchNor (None, 13, 2, 2048)  8192        activation_49[0][0]              \n",
            "__________________________________________________________________________________________________\n",
            "activation_50 (Activation)      (None, 13, 2, 2048)  0           batch_normalization_1[0][0]      \n",
            "__________________________________________________________________________________________________\n",
            "average_pooling2d_1 (AveragePoo (None, 6, 1, 2048)   0           activation_50[0][0]              \n",
            "__________________________________________________________________________________________________\n",
            "flatten_1 (Flatten)             (None, 12288)        0           average_pooling2d_1[0][0]        \n",
            "__________________________________________________________________________________________________\n",
            "dense_1 (Dense)                 (None, 11)           135179      flatten_1[0][0]                  \n",
            "==================================================================================================\n",
            "Total params: 23,724,811\n",
            "Trainable params: 23,667,595\n",
            "Non-trainable params: 57,216\n",
            "__________________________________________________________________________________________________\n"
          ],
          "name": "stdout"
        }
      ]
    },
    {
      "cell_type": "code",
      "metadata": {
        "id": "oKg_NrT7tVJQ",
        "colab_type": "code",
        "colab": {}
      },
      "source": [
        "# from keras import applications\n",
        "# from keras.models import Sequential\n",
        "# from keras.layers import Activation\n",
        "# from keras.layers import Dense, Dropout, Activation, Flatten, Add, BatchNormalization,AveragePooling2D\n",
        "# from keras.layers import Convolution2D, MaxPooling2D\n",
        "# from keras.layers import GlobalAveragePooling2D,Dropout,Dense\n",
        "# from keras.models import Model"
      ],
      "execution_count": 0,
      "outputs": []
    },
    {
      "cell_type": "code",
      "metadata": {
        "id": "Ths1BslpuhF8",
        "colab_type": "code",
        "colab": {}
      },
      "source": [
        "# model = Sequential()\n",
        "# model.add(Convolution2D(1,(3,3),padding='same',activation = 'relu',input_shape = (398,40,1)))\n",
        "# model.add(MaxPooling2D(pool_size=(2, 1)))\n",
        "# model.add(MaxPooling2D(pool_size=(2, 1)))\n",
        "# model.add(MaxPooling2D(pool_size=(2, 1)))\n",
        "\n",
        "# #model.add(Convolution2D(1, (3,3),strides=(2,1), padding='same',activation='relu',use_bias=False))\n",
        "\n",
        "# #model.add(Convolution2D(1, 3, 3, activation='relu',use_bias=False))\n",
        "# model.add(Convolution2D(1, 2, 1, activation='relu',use_bias=False))\n",
        "# model.add(Convolution2D(1, 3, 1, activation='relu',use_bias=False))\n",
        "# model.add(Convolution2D(1, 3, 1, activation='relu',use_bias=False))\n",
        "# model.add(Convolution2D(1, 3, 1, activation='relu',use_bias=False))\n",
        "# model.add(Convolution2D(1, 3, 1, activation='relu',use_bias=False))\n",
        "# #model.add(Convolution2D(32, 3, 3, activation='relu',use_bias=False))\n",
        "\n",
        "# #model.add(Flatten())\n",
        "# #model.add(Activation('softmax'))\n",
        "# model.add(rnet)\n",
        "# model.summary()"
      ],
      "execution_count": 0,
      "outputs": []
    },
    {
      "cell_type": "code",
      "metadata": {
        "id": "ap98HDZQYZGS",
        "colab_type": "code",
        "outputId": "45062b07-32e6-47d2-8219-8ca106997a31",
        "colab": {
          "base_uri": "https://localhost:8080/",
          "height": 104
        }
      },
      "source": [
        "from keras.optimizers import Adam\n",
        "adam=Adam(lr=0.0001)\n",
        "rnet.compile(optimizer=adam,loss='categorical_crossentropy',metrics=['accuracy'])"
      ],
      "execution_count": 0,
      "outputs": [
        {
          "output_type": "stream",
          "text": [
            "WARNING:tensorflow:From /usr/local/lib/python3.6/dist-packages/keras/optimizers.py:793: The name tf.train.Optimizer is deprecated. Please use tf.compat.v1.train.Optimizer instead.\n",
            "\n",
            "WARNING:tensorflow:From /usr/local/lib/python3.6/dist-packages/keras/backend/tensorflow_backend.py:3576: The name tf.log is deprecated. Please use tf.math.log instead.\n",
            "\n"
          ],
          "name": "stdout"
        }
      ]
    },
    {
      "cell_type": "code",
      "metadata": {
        "id": "6CgMpV11Yb67",
        "colab_type": "code",
        "colab": {}
      },
      "source": [
        "\n",
        "x_train_reshaped = X_train.reshape(X_train.shape[0],398,40,1)"
      ],
      "execution_count": 0,
      "outputs": []
    },
    {
      "cell_type": "code",
      "metadata": {
        "id": "uFGsUQBZYeRT",
        "colab_type": "code",
        "outputId": "109fa40c-ffbf-4629-8765-a7b5158795b5",
        "colab": {
          "base_uri": "https://localhost:8080/",
          "height": 1000
        }
      },
      "source": [
        "rnet.fit(x_train_reshaped,Y_train,epochs=25,batch_size=64)"
      ],
      "execution_count": 0,
      "outputs": [
        {
          "output_type": "stream",
          "text": [
            "WARNING:tensorflow:From /usr/local/lib/python3.6/dist-packages/tensorflow_core/python/ops/math_grad.py:1424: where (from tensorflow.python.ops.array_ops) is deprecated and will be removed in a future version.\n",
            "Instructions for updating:\n",
            "Use tf.where in 2.0, which has the same broadcast rule as np.where\n",
            "WARNING:tensorflow:From /usr/local/lib/python3.6/dist-packages/keras/backend/tensorflow_backend.py:1033: The name tf.assign_add is deprecated. Please use tf.compat.v1.assign_add instead.\n",
            "\n",
            "WARNING:tensorflow:From /usr/local/lib/python3.6/dist-packages/keras/backend/tensorflow_backend.py:1020: The name tf.assign is deprecated. Please use tf.compat.v1.assign instead.\n",
            "\n",
            "Epoch 1/25\n",
            "17737/17737 [==============================] - 72s 4ms/step - loss: 2.1176 - acc: 0.2888\n",
            "Epoch 2/25\n",
            "17737/17737 [==============================] - 53s 3ms/step - loss: 1.6679 - acc: 0.4422\n",
            "Epoch 3/25\n",
            "17737/17737 [==============================] - 53s 3ms/step - loss: 1.1359 - acc: 0.6304\n",
            "Epoch 4/25\n",
            "17737/17737 [==============================] - 53s 3ms/step - loss: 0.6431 - acc: 0.8044\n",
            "Epoch 5/25\n",
            "17737/17737 [==============================] - 53s 3ms/step - loss: 0.3260 - acc: 0.9084\n",
            "Epoch 6/25\n",
            "17737/17737 [==============================] - 53s 3ms/step - loss: 0.1703 - acc: 0.9582\n",
            "Epoch 7/25\n",
            "17737/17737 [==============================] - 53s 3ms/step - loss: 0.1127 - acc: 0.9738\n",
            "Epoch 8/25\n",
            "17737/17737 [==============================] - 53s 3ms/step - loss: 0.0704 - acc: 0.9862\n",
            "Epoch 9/25\n",
            "17737/17737 [==============================] - 53s 3ms/step - loss: 0.0872 - acc: 0.9812\n",
            "Epoch 10/25\n",
            "17737/17737 [==============================] - 53s 3ms/step - loss: 0.0700 - acc: 0.9850\n",
            "Epoch 11/25\n",
            "17737/17737 [==============================] - 53s 3ms/step - loss: 0.0385 - acc: 0.9924\n",
            "Epoch 12/25\n",
            "17737/17737 [==============================] - 53s 3ms/step - loss: 0.0468 - acc: 0.9880\n",
            "Epoch 13/25\n",
            "17737/17737 [==============================] - 53s 3ms/step - loss: 0.0218 - acc: 0.9946\n",
            "Epoch 14/25\n",
            "17737/17737 [==============================] - 53s 3ms/step - loss: 0.0663 - acc: 0.9782\n",
            "Epoch 15/25\n",
            "17737/17737 [==============================] - 53s 3ms/step - loss: 0.0531 - acc: 0.9841\n",
            "Epoch 16/25\n",
            "17737/17737 [==============================] - 53s 3ms/step - loss: 0.0244 - acc: 0.9939\n",
            "Epoch 17/25\n",
            "17737/17737 [==============================] - 53s 3ms/step - loss: 0.0379 - acc: 0.9909\n",
            "Epoch 18/25\n",
            "17737/17737 [==============================] - 53s 3ms/step - loss: 0.0115 - acc: 0.9971\n",
            "Epoch 19/25\n",
            "17737/17737 [==============================] - 53s 3ms/step - loss: 0.0069 - acc: 0.9986\n",
            "Epoch 20/25\n",
            "17737/17737 [==============================] - 53s 3ms/step - loss: 0.0098 - acc: 0.9974\n",
            "Epoch 21/25\n",
            "17737/17737 [==============================] - 53s 3ms/step - loss: 0.0948 - acc: 0.9722\n",
            "Epoch 22/25\n",
            "17737/17737 [==============================] - 53s 3ms/step - loss: 0.0303 - acc: 0.9905\n",
            "Epoch 23/25\n",
            "17737/17737 [==============================] - 53s 3ms/step - loss: 0.0063 - acc: 0.9986\n",
            "Epoch 24/25\n",
            "17737/17737 [==============================] - 53s 3ms/step - loss: 0.0026 - acc: 0.9996\n",
            "Epoch 25/25\n",
            "17737/17737 [==============================] - 53s 3ms/step - loss: 0.0025 - acc: 0.9994\n"
          ],
          "name": "stdout"
        },
        {
          "output_type": "execute_result",
          "data": {
            "text/plain": [
              "<keras.callbacks.History at 0x7fdc50bdb6d8>"
            ]
          },
          "metadata": {
            "tags": []
          },
          "execution_count": 25
        }
      ]
    },
    {
      "cell_type": "code",
      "metadata": {
        "id": "O5km0Lx8yPE_",
        "colab_type": "code",
        "colab": {}
      },
      "source": [
        "x_test = X_test.reshape(X_test.shape[0],398,40,1)\n",
        "y_pred=rnet.predict(x_test)"
      ],
      "execution_count": 0,
      "outputs": []
    },
    {
      "cell_type": "code",
      "metadata": {
        "id": "fA44IIfjyZjt",
        "colab_type": "code",
        "outputId": "2a890f2d-c5f7-472d-ea7b-293c8ebe5724",
        "colab": {
          "base_uri": "https://localhost:8080/",
          "height": 34
        }
      },
      "source": [
        "import keras\n",
        "# from sklearn.metrics import accuracy_score\n",
        "# print(accuracy_score(Y_test, y_pred))\n",
        "acc=0\n",
        "for i in range(len(Y_test)):\n",
        "  count=0\n",
        "  for j in range(len(Y_test[i])):\n",
        "    if(Y_test[i][j]==round(y_pred[i][j],0)):\n",
        "      count+=1\n",
        "  if(count==11):\n",
        "    acc+=1\n",
        "print(\"Accuracy is\",(acc/len(Y_test))*100)"
      ],
      "execution_count": 0,
      "outputs": [
        {
          "output_type": "stream",
          "text": [
            "Accuracy is 99.17131743615761\n"
          ],
          "name": "stdout"
        }
      ]
    },
    {
      "cell_type": "code",
      "metadata": {
        "id": "1RaqJ6Lxydiu",
        "colab_type": "code",
        "colab": {}
      },
      "source": [
        "def prediction(targ):\n",
        "    accents = ['bengali','dogri','gujarathi','hindi','malayalam','manipuri','marathi','odisha','tamil','telugu','urdu']\n",
        "    np.set_printoptions(formatter={'float_kind':'{:.1f}'.format})"
      ],
      "execution_count": 0,
      "outputs": []
    },
    {
      "cell_type": "code",
      "metadata": {
        "id": "-oZMON_5ymGZ",
        "colab_type": "code",
        "colab": {}
      },
      "source": [
        "\n",
        "def Pre_final_data(folder,files):\n",
        "    index=0\n",
        "    data_dic = np.zeros((23650,398,40))\n",
        "    mfcc=[]\n",
        "    target=[]\n",
        "    mfcc_len=length_audio(folder,files)\n",
        "    \n",
        "    for i in range(0,mfcc_len,2):\n",
        "        \n",
        "        mfcc = create_mfcc(folder,files,i)\n",
        "        for j in range(len(mfcc)):\n",
        "              for k in range(len(mfcc[j])):\n",
        "                data_dic[index][j][k] = mfcc[j][k]\n",
        "        index += 1\n",
        "        #target.append(mfcc)\n",
        "    #target=np.asarray()\n",
        "    \n",
        "    data_dic_reshaped = data_dic.reshape(data_dic.shape[0],398,40,1)\n",
        "    targ=model.predict(data_dic_reshaped)    \n",
        "    print(targ)\n",
        "    prediction(targ)"
      ],
      "execution_count": 0,
      "outputs": []
    },
    {
      "cell_type": "code",
      "metadata": {
        "id": "jCVOFUYayxpF",
        "colab_type": "code",
        "colab": {}
      },
      "source": [
        ""
      ],
      "execution_count": 0,
      "outputs": []
    }
  ]
}